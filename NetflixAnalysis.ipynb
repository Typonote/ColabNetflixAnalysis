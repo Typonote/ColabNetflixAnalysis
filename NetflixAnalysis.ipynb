{
  "nbformat": 4,
  "nbformat_minor": 0,
  "metadata": {
    "colab": {
      "name": "NetflixAnalysis.ipynb",
      "provenance": [],
      "collapsed_sections": []
    },
    "kernelspec": {
      "name": "python3",
      "display_name": "Python 3"
    },
    "language_info": {
      "name": "python"
    }
  },
  "cells": [
    {
      "cell_type": "markdown",
      "metadata": {
        "id": "4Ca64ukwFfj_"
      },
      "source": [
        "넷플릭스 데이터 분석하기 <br>\n",
        "**출처**: https://www.kaggle.com/shivamb/netflix-shows"
      ]
    },
    {
      "cell_type": "markdown",
      "metadata": {
        "id": "ouUUPmt4WIlZ"
      },
      "source": [
        "https://www.kaggle.com/amalseb4stian/netflix-final <br> https://www.kaggle.com/neithskk/eda-netflix-beginner"
      ]
    },
    {
      "cell_type": "markdown",
      "metadata": {
        "id": "UKXT5NWoGENS"
      },
      "source": [
        "---"
      ]
    },
    {
      "cell_type": "code",
      "metadata": {
        "colab": {
          "base_uri": "https://localhost:8080/"
        },
        "id": "g2d6N7qBQKgJ",
        "outputId": "7b1b6815-b390-4a8e-9f18-0896d81bed9c"
      },
      "source": [
        "!sudo apt-get install -y fonts-nanum\n",
        "!sudo fc-cache -fv\n",
        "!rm ~/.cache/matplotlib -rf"
      ],
      "execution_count": null,
      "outputs": [
        {
          "output_type": "stream",
          "name": "stdout",
          "text": [
            "Reading package lists... Done\n",
            "Building dependency tree       \n",
            "Reading state information... Done\n",
            "fonts-nanum is already the newest version (20170925-1).\n",
            "0 upgraded, 0 newly installed, 0 to remove and 37 not upgraded.\n",
            "/usr/share/fonts: caching, new cache contents: 0 fonts, 1 dirs\n",
            "/usr/share/fonts/truetype: caching, new cache contents: 0 fonts, 3 dirs\n",
            "/usr/share/fonts/truetype/humor-sans: caching, new cache contents: 1 fonts, 0 dirs\n",
            "/usr/share/fonts/truetype/liberation: caching, new cache contents: 16 fonts, 0 dirs\n",
            "/usr/share/fonts/truetype/nanum: caching, new cache contents: 10 fonts, 0 dirs\n",
            "/usr/local/share/fonts: caching, new cache contents: 0 fonts, 0 dirs\n",
            "/root/.local/share/fonts: skipping, no such directory\n",
            "/root/.fonts: skipping, no such directory\n",
            "/var/cache/fontconfig: cleaning cache directory\n",
            "/root/.cache/fontconfig: not cleaning non-existent cache directory\n",
            "/root/.fontconfig: not cleaning non-existent cache directory\n",
            "fc-cache: succeeded\n"
          ]
        }
      ]
    },
    {
      "cell_type": "code",
      "metadata": {
        "id": "MbJ1C9b6RQoG"
      },
      "source": [
        "import matplotlib.pyplot as plt\n",
        "plt.rc('font', family='NanumBarunGothic') "
      ],
      "execution_count": null,
      "outputs": []
    },
    {
      "cell_type": "code",
      "metadata": {
        "id": "zkrm9MSMGZsV"
      },
      "source": [
        "# 필요한 모듈 삽입 \n",
        "import numpy as np \n",
        "import pandas as pd \n",
        "import matplotlib.pyplot as plt\n",
        "import seaborn as sns\n",
        "import missingno as msno"
      ],
      "execution_count": null,
      "outputs": []
    },
    {
      "cell_type": "code",
      "metadata": {
        "colab": {
          "base_uri": "https://localhost:8080/",
          "height": 369
        },
        "id": "gOB-JX4IFhfA",
        "outputId": "6c245b8d-f933-448e-ce42-4145995addda"
      },
      "source": [
        "# 넷플릭스 데이터 로드 => netflix 변수에 저장 \n",
        "netflix = pd.read_csv(\"/content/drive/MyDrive/Netflix/netflix_titles.csv\") \n",
        "display(netflix.head(3), netflix.tail(3))"
      ],
      "execution_count": null,
      "outputs": [
        {
          "output_type": "display_data",
          "data": {
            "text/html": [
              "<div>\n",
              "<style scoped>\n",
              "    .dataframe tbody tr th:only-of-type {\n",
              "        vertical-align: middle;\n",
              "    }\n",
              "\n",
              "    .dataframe tbody tr th {\n",
              "        vertical-align: top;\n",
              "    }\n",
              "\n",
              "    .dataframe thead th {\n",
              "        text-align: right;\n",
              "    }\n",
              "</style>\n",
              "<table border=\"1\" class=\"dataframe\">\n",
              "  <thead>\n",
              "    <tr style=\"text-align: right;\">\n",
              "      <th></th>\n",
              "      <th>show_id</th>\n",
              "      <th>type</th>\n",
              "      <th>title</th>\n",
              "      <th>director</th>\n",
              "      <th>cast</th>\n",
              "      <th>country</th>\n",
              "      <th>date_added</th>\n",
              "      <th>release_year</th>\n",
              "      <th>rating</th>\n",
              "      <th>duration</th>\n",
              "      <th>listed_in</th>\n",
              "      <th>description</th>\n",
              "    </tr>\n",
              "  </thead>\n",
              "  <tbody>\n",
              "    <tr>\n",
              "      <th>0</th>\n",
              "      <td>s1</td>\n",
              "      <td>TV Show</td>\n",
              "      <td>3%</td>\n",
              "      <td>NaN</td>\n",
              "      <td>João Miguel, Bianca Comparato, Michel Gomes, R...</td>\n",
              "      <td>Brazil</td>\n",
              "      <td>August 14, 2020</td>\n",
              "      <td>2020</td>\n",
              "      <td>TV-MA</td>\n",
              "      <td>4 Seasons</td>\n",
              "      <td>International TV Shows, TV Dramas, TV Sci-Fi &amp;...</td>\n",
              "      <td>In a future where the elite inhabit an island ...</td>\n",
              "    </tr>\n",
              "    <tr>\n",
              "      <th>1</th>\n",
              "      <td>s2</td>\n",
              "      <td>Movie</td>\n",
              "      <td>7:19</td>\n",
              "      <td>Jorge Michel Grau</td>\n",
              "      <td>Demián Bichir, Héctor Bonilla, Oscar Serrano, ...</td>\n",
              "      <td>Mexico</td>\n",
              "      <td>December 23, 2016</td>\n",
              "      <td>2016</td>\n",
              "      <td>TV-MA</td>\n",
              "      <td>93 min</td>\n",
              "      <td>Dramas, International Movies</td>\n",
              "      <td>After a devastating earthquake hits Mexico Cit...</td>\n",
              "    </tr>\n",
              "    <tr>\n",
              "      <th>2</th>\n",
              "      <td>s3</td>\n",
              "      <td>Movie</td>\n",
              "      <td>23:59</td>\n",
              "      <td>Gilbert Chan</td>\n",
              "      <td>Tedd Chan, Stella Chung, Henley Hii, Lawrence ...</td>\n",
              "      <td>Singapore</td>\n",
              "      <td>December 20, 2018</td>\n",
              "      <td>2011</td>\n",
              "      <td>R</td>\n",
              "      <td>78 min</td>\n",
              "      <td>Horror Movies, International Movies</td>\n",
              "      <td>When an army recruit is found dead, his fellow...</td>\n",
              "    </tr>\n",
              "  </tbody>\n",
              "</table>\n",
              "</div>"
            ],
            "text/plain": [
              "  show_id  ...                                        description\n",
              "0      s1  ...  In a future where the elite inhabit an island ...\n",
              "1      s2  ...  After a devastating earthquake hits Mexico Cit...\n",
              "2      s3  ...  When an army recruit is found dead, his fellow...\n",
              "\n",
              "[3 rows x 12 columns]"
            ]
          },
          "metadata": {}
        },
        {
          "output_type": "display_data",
          "data": {
            "text/html": [
              "<div>\n",
              "<style scoped>\n",
              "    .dataframe tbody tr th:only-of-type {\n",
              "        vertical-align: middle;\n",
              "    }\n",
              "\n",
              "    .dataframe tbody tr th {\n",
              "        vertical-align: top;\n",
              "    }\n",
              "\n",
              "    .dataframe thead th {\n",
              "        text-align: right;\n",
              "    }\n",
              "</style>\n",
              "<table border=\"1\" class=\"dataframe\">\n",
              "  <thead>\n",
              "    <tr style=\"text-align: right;\">\n",
              "      <th></th>\n",
              "      <th>show_id</th>\n",
              "      <th>type</th>\n",
              "      <th>title</th>\n",
              "      <th>director</th>\n",
              "      <th>cast</th>\n",
              "      <th>country</th>\n",
              "      <th>date_added</th>\n",
              "      <th>release_year</th>\n",
              "      <th>rating</th>\n",
              "      <th>duration</th>\n",
              "      <th>listed_in</th>\n",
              "      <th>description</th>\n",
              "    </tr>\n",
              "  </thead>\n",
              "  <tbody>\n",
              "    <tr>\n",
              "      <th>7784</th>\n",
              "      <td>s7785</td>\n",
              "      <td>Movie</td>\n",
              "      <td>Zulu Man in Japan</td>\n",
              "      <td>NaN</td>\n",
              "      <td>Nasty C</td>\n",
              "      <td>NaN</td>\n",
              "      <td>September 25, 2020</td>\n",
              "      <td>2019</td>\n",
              "      <td>TV-MA</td>\n",
              "      <td>44 min</td>\n",
              "      <td>Documentaries, International Movies, Music &amp; M...</td>\n",
              "      <td>In this documentary, South African rapper Nast...</td>\n",
              "    </tr>\n",
              "    <tr>\n",
              "      <th>7785</th>\n",
              "      <td>s7786</td>\n",
              "      <td>TV Show</td>\n",
              "      <td>Zumbo's Just Desserts</td>\n",
              "      <td>NaN</td>\n",
              "      <td>Adriano Zumbo, Rachel Khoo</td>\n",
              "      <td>Australia</td>\n",
              "      <td>October 31, 2020</td>\n",
              "      <td>2019</td>\n",
              "      <td>TV-PG</td>\n",
              "      <td>1 Season</td>\n",
              "      <td>International TV Shows, Reality TV</td>\n",
              "      <td>Dessert wizard Adriano Zumbo looks for the nex...</td>\n",
              "    </tr>\n",
              "    <tr>\n",
              "      <th>7786</th>\n",
              "      <td>s7787</td>\n",
              "      <td>Movie</td>\n",
              "      <td>ZZ TOP: THAT LITTLE OL' BAND FROM TEXAS</td>\n",
              "      <td>Sam Dunn</td>\n",
              "      <td>NaN</td>\n",
              "      <td>United Kingdom, Canada, United States</td>\n",
              "      <td>March 1, 2020</td>\n",
              "      <td>2019</td>\n",
              "      <td>TV-MA</td>\n",
              "      <td>90 min</td>\n",
              "      <td>Documentaries, Music &amp; Musicals</td>\n",
              "      <td>This documentary delves into the mystique behi...</td>\n",
              "    </tr>\n",
              "  </tbody>\n",
              "</table>\n",
              "</div>"
            ],
            "text/plain": [
              "     show_id  ...                                        description\n",
              "7784   s7785  ...  In this documentary, South African rapper Nast...\n",
              "7785   s7786  ...  Dessert wizard Adriano Zumbo looks for the nex...\n",
              "7786   s7787  ...  This documentary delves into the mystique behi...\n",
              "\n",
              "[3 rows x 12 columns]"
            ]
          },
          "metadata": {}
        }
      ]
    },
    {
      "cell_type": "code",
      "metadata": {
        "colab": {
          "base_uri": "https://localhost:8080/"
        },
        "id": "s5suBOneFhTH",
        "outputId": "460eb7df-43d3-4cea-b683-f00ab5065b70"
      },
      "source": [
        "# netflix 데이터셋이 몇개의 행과 열로 구성된 데이터프레임인지 확인 => shape\n",
        "netflix.shape"
      ],
      "execution_count": null,
      "outputs": [
        {
          "output_type": "execute_result",
          "data": {
            "text/plain": [
              "(7787, 12)"
            ]
          },
          "metadata": {},
          "execution_count": 5
        }
      ]
    },
    {
      "cell_type": "code",
      "metadata": {
        "colab": {
          "base_uri": "https://localhost:8080/"
        },
        "id": "a1nKpni2GvOI",
        "outputId": "415e787e-4574-4a71-917c-407a7f1e4e25"
      },
      "source": [
        "# netflix의 컬럼명 확인 => columns\n",
        "netflix.columns"
      ],
      "execution_count": null,
      "outputs": [
        {
          "output_type": "execute_result",
          "data": {
            "text/plain": [
              "Index(['show_id', 'type', 'title', 'director', 'cast', 'country', 'date_added',\n",
              "       'release_year', 'rating', 'duration', 'listed_in', 'description'],\n",
              "      dtype='object')"
            ]
          },
          "metadata": {},
          "execution_count": 6
        }
      ]
    },
    {
      "cell_type": "code",
      "metadata": {
        "colab": {
          "base_uri": "https://localhost:8080/"
        },
        "id": "SSIZCc-xHjk0",
        "outputId": "259d864d-74eb-4d5b-915a-18f3a037d3b2"
      },
      "source": [
        "# 결측값 확인하기(1)\n",
        "netflix.isnull().sum()"
      ],
      "execution_count": null,
      "outputs": [
        {
          "output_type": "execute_result",
          "data": {
            "text/plain": [
              "show_id            0\n",
              "type               0\n",
              "title              0\n",
              "director        2389\n",
              "cast             718\n",
              "country          507\n",
              "date_added        10\n",
              "release_year       0\n",
              "rating             7\n",
              "duration           0\n",
              "listed_in          0\n",
              "description        0\n",
              "dtype: int64"
            ]
          },
          "metadata": {},
          "execution_count": 7
        }
      ]
    },
    {
      "cell_type": "code",
      "metadata": {
        "colab": {
          "base_uri": "https://localhost:8080/"
        },
        "id": "rwvOup-IHXMP",
        "outputId": "c7ab63b5-9ebf-475d-bbaf-310a2808fd35"
      },
      "source": [
        "# 결측값 확인하기(2)\n",
        "# 결측값이 있는 column만 dataset_with_na변수에 저장.\n",
        "dataset_with_na = [features for features in netflix.columns if netflix[features].isnull().sum()>1]  # => ['director', 'cast', 'country', 'date_added', 'rating']\n",
        "for feature in dataset_with_na:\n",
        "    print(feature, np.round(netflix[feature].isnull().mean(), 4),  ' % missing values')"
      ],
      "execution_count": null,
      "outputs": [
        {
          "output_type": "stream",
          "name": "stdout",
          "text": [
            "director 0.3068  % missing values\n",
            "cast 0.0922  % missing values\n",
            "country 0.0651  % missing values\n",
            "date_added 0.0013  % missing values\n",
            "rating 0.0009  % missing values\n"
          ]
        }
      ]
    },
    {
      "cell_type": "code",
      "metadata": {
        "colab": {
          "base_uri": "https://localhost:8080/",
          "height": 420
        },
        "id": "azVcF1ccIamL",
        "outputId": "003fc96e-82ba-4b6c-a622-2a5774710d8d"
      },
      "source": [
        "# 결측값 시각화하기 => missingno 사용\n",
        "msno.matrix(netflix, figsize=(12,5))"
      ],
      "execution_count": null,
      "outputs": [
        {
          "output_type": "execute_result",
          "data": {
            "text/plain": [
              "<matplotlib.axes._subplots.AxesSubplot at 0x7ff82aa34b90>"
            ]
          },
          "metadata": {},
          "execution_count": 9
        },
        {
          "output_type": "display_data",
          "data": {
            "image/png": "[encoded data removed]",
            "text/plain": [
              "<Figure size 864x360 with 2 Axes>"
            ]
          },
          "metadata": {
            "needs_background": "light"
          }
        }
      ]
    },
    {
      "cell_type": "markdown",
      "metadata": {
        "id": "JynKhSGOJrxF"
      },
      "source": [
        "---"
      ]
    },
    {
      "cell_type": "code",
      "metadata": {
        "colab": {
          "base_uri": "https://localhost:8080/"
        },
        "id": "X99Ol9D0JtBf",
        "outputId": "74ed0482-c7e0-4f2d-a39a-8dffa9b65daa"
      },
      "source": [
        "# netflix 프로그램 Type 분석 => 'TV Show', 'Movie' 값만 존재\n",
        "netflix['type'].unique()"
      ],
      "execution_count": null,
      "outputs": [
        {
          "output_type": "execute_result",
          "data": {
            "text/plain": [
              "array(['TV Show', 'Movie'], dtype=object)"
            ]
          },
          "metadata": {},
          "execution_count": 10
        }
      ]
    },
    {
      "cell_type": "code",
      "metadata": {
        "colab": {
          "base_uri": "https://localhost:8080/",
          "height": 294
        },
        "id": "hK3E34igJtYd",
        "outputId": "6213225a-9d49-4d13-f3fd-8c69638bd078"
      },
      "source": [
        "# netflix 데이터의 type을 그래프로 출력하기 => seaborn을 이용\n",
        "sns.countplot(x='type', data=netflix)\n",
        "plt.title('콘텐츠 타입')\n",
        "plt.show()"
      ],
      "execution_count": null,
      "outputs": [
        {
          "output_type": "display_data",
          "data": {
            "image/png": "[encoded data removed]",
            "text/plain": [
              "<Figure size 432x288 with 1 Axes>"
            ]
          },
          "metadata": {
            "needs_background": "light"
          }
        }
      ]
    },
    {
      "cell_type": "code",
      "metadata": {
        "colab": {
          "base_uri": "https://localhost:8080/"
        },
        "id": "wMKlXKc6Jtut",
        "outputId": "d29f96b6-4be8-4998-fb4e-78bd6ca44149"
      },
      "source": [
        "# netflix 프로그램 rating 분석 => 'TV-MA', 'R', 'PG-13', 'TV-14', 'TV-PG', 'NR', 'TV-G', 'TV-Y', nan, 'TV-Y7', 'PG', 'G', 'NC-17', 'TV-Y7-FV', 'UR' 존재\n",
        "netflix['rating'].unique() "
      ],
      "execution_count": null,
      "outputs": [
        {
          "output_type": "execute_result",
          "data": {
            "text/plain": [
              "array(['TV-MA', 'R', 'PG-13', 'TV-14', 'TV-PG', 'NR', 'TV-G', 'TV-Y', nan,\n",
              "       'TV-Y7', 'PG', 'G', 'NC-17', 'TV-Y7-FV', 'UR'], dtype=object)"
            ]
          },
          "metadata": {},
          "execution_count": 12
        }
      ]
    },
    {
      "cell_type": "code",
      "metadata": {
        "colab": {
          "base_uri": "https://localhost:8080/",
          "height": 620
        },
        "id": "NyXTQGxcLoUS",
        "outputId": "8a53899a-7ac4-49e3-a2ef-cce63a9e7663"
      },
      "source": [
        "# netflix 데이터의 rating을 그래프로 출력하기 => seaborn을 이용\n",
        "plt.figure(figsize=(15,10))\n",
        "sns.countplot(x='rating', data=netflix)\n",
        "plt.title('프로그램 등급')\n",
        "plt.show()"
      ],
      "execution_count": null,
      "outputs": [
        {
          "output_type": "display_data",
          "data": {
            "image/png": "[encoded data removed]",
            "text/plain": [
              "<Figure size 1080x720 with 1 Axes>"
            ]
          },
          "metadata": {
            "needs_background": "light"
          }
        }
      ]
    },
    {
      "cell_type": "code",
      "metadata": {
        "colab": {
          "base_uri": "https://localhost:8080/",
          "height": 513
        },
        "id": "i-6a5QNCSphK",
        "outputId": "8f5e6c5e-ce8b-4d7e-f14e-e3a048ecd21c"
      },
      "source": [
        "order = ['TV-MA', 'R', 'PG-13', 'TV-14', 'TV-PG', 'NR', 'TV-G', 'TV-Y', 'TV-Y7', 'PG', 'G', 'NC-17', 'TV-Y7-FV', 'UR']\n",
        "plt.figure(figsize=(15,7))\n",
        "g = sns.countplot(netflix.rating, hue=netflix.type, order=order, palette=\"pastel\");\n",
        "plt.title(\"영화와 tv프로그램의 등급\")\n",
        "plt.xlabel(\"Rating\")\n",
        "plt.ylabel(\"Count\")\n",
        "plt.show()"
      ],
      "execution_count": null,
      "outputs": [
        {
          "output_type": "stream",
          "name": "stderr",
          "text": [
            "/usr/local/lib/python3.7/dist-packages/seaborn/_decorators.py:43: FutureWarning: Pass the following variable as a keyword arg: x. From version 0.12, the only valid positional argument will be `data`, and passing other arguments without an explicit keyword will result in an error or misinterpretation.\n",
            "  FutureWarning\n"
          ]
        },
        {
          "output_type": "display_data",
          "data": {
            "image/png": "[encoded data removed]",
            "text/plain": [
              "<Figure size 1080x504 with 1 Axes>"
            ]
          },
          "metadata": {
            "needs_background": "light"
          }
        }
      ]
    },
    {
      "cell_type": "markdown",
      "metadata": {
        "id": "A6YNMcOYMhgF"
      },
      "source": [
        "---"
      ]
    },
    {
      "cell_type": "code",
      "metadata": {
        "colab": {
          "base_uri": "https://localhost:8080/"
        },
        "id": "FB9vDaFDMhJq",
        "outputId": "8ecce23e-153c-4f6b-e282-a7a7e31b0a09"
      },
      "source": [
        "# 콘텐츠의 개봉년도 분석\n",
        "netflix['release_year'].unique() "
      ],
      "execution_count": null,
      "outputs": [
        {
          "output_type": "execute_result",
          "data": {
            "text/plain": [
              "array([2020, 2016, 2011, 2009, 2008, 2019, 1997, 2017, 2018, 2014, 2015,\n",
              "       2010, 2005, 2013, 2012, 2006, 2000, 2003, 1989, 2004, 1977, 1971,\n",
              "       1993, 2007, 1998, 1988, 1996, 2002, 1986, 1990, 1979, 1980, 1974,\n",
              "       2001, 1999, 1966, 1991, 1982, 1994, 1995, 1978, 1992, 1972, 1975,\n",
              "       2021, 1973, 1967, 1960, 1981, 1958, 1976, 1968, 1956, 1985, 1965,\n",
              "       1984, 1983, 1987, 1945, 1946, 1962, 1925, 1942, 1969, 1955, 1963,\n",
              "       1964, 1954, 1970, 1944, 1947, 1959, 1943])"
            ]
          },
          "metadata": {},
          "execution_count": 15
        }
      ]
    },
    {
      "cell_type": "code",
      "metadata": {
        "colab": {
          "base_uri": "https://localhost:8080/"
        },
        "id": "5m_SGwgLM5LO",
        "outputId": "8923d6cf-c8c2-4f3c-8b37-025bcdabe9d3"
      },
      "source": [
        "# 1980년 이후의 개봉작만 추출하여 그래프로 그리기 \n",
        "year_netflix = netflix.groupby('release_year').count()['title']\n",
        "year_netflix"
      ],
      "execution_count": null,
      "outputs": [
        {
          "output_type": "execute_result",
          "data": {
            "text/plain": [
              "release_year\n",
              "1925       1\n",
              "1942       2\n",
              "1943       3\n",
              "1944       3\n",
              "1945       3\n",
              "        ... \n",
              "2017    1012\n",
              "2018    1121\n",
              "2019     996\n",
              "2020     868\n",
              "2021      31\n",
              "Name: title, Length: 73, dtype: int64"
            ]
          },
          "metadata": {},
          "execution_count": 16
        }
      ]
    },
    {
      "cell_type": "code",
      "metadata": {
        "colab": {
          "base_uri": "https://localhost:8080/",
          "height": 453
        },
        "id": "uZsusjfHOa6r",
        "outputId": "e3d22cf8-b99e-4dd0-8999-ac37fbe670c5"
      },
      "source": [
        "year_netflix.columns=['release_year']\n",
        "year_netflix.sort_index\n",
        "year_netflix = pd.DataFrame(year_netflix[year_netflix.index>=1980])\n",
        "display(year_netflix.head(5), year_netflix.tail(5))"
      ],
      "execution_count": null,
      "outputs": [
        {
          "output_type": "display_data",
          "data": {
            "text/html": [
              "<div>\n",
              "<style scoped>\n",
              "    .dataframe tbody tr th:only-of-type {\n",
              "        vertical-align: middle;\n",
              "    }\n",
              "\n",
              "    .dataframe tbody tr th {\n",
              "        vertical-align: top;\n",
              "    }\n",
              "\n",
              "    .dataframe thead th {\n",
              "        text-align: right;\n",
              "    }\n",
              "</style>\n",
              "<table border=\"1\" class=\"dataframe\">\n",
              "  <thead>\n",
              "    <tr style=\"text-align: right;\">\n",
              "      <th></th>\n",
              "      <th>title</th>\n",
              "    </tr>\n",
              "    <tr>\n",
              "      <th>release_year</th>\n",
              "      <th></th>\n",
              "    </tr>\n",
              "  </thead>\n",
              "  <tbody>\n",
              "    <tr>\n",
              "      <th>1980</th>\n",
              "      <td>9</td>\n",
              "    </tr>\n",
              "    <tr>\n",
              "      <th>1981</th>\n",
              "      <td>9</td>\n",
              "    </tr>\n",
              "    <tr>\n",
              "      <th>1982</th>\n",
              "      <td>15</td>\n",
              "    </tr>\n",
              "    <tr>\n",
              "      <th>1983</th>\n",
              "      <td>9</td>\n",
              "    </tr>\n",
              "    <tr>\n",
              "      <th>1984</th>\n",
              "      <td>9</td>\n",
              "    </tr>\n",
              "  </tbody>\n",
              "</table>\n",
              "</div>"
            ],
            "text/plain": [
              "              title\n",
              "release_year       \n",
              "1980              9\n",
              "1981              9\n",
              "1982             15\n",
              "1983              9\n",
              "1984              9"
            ]
          },
          "metadata": {}
        },
        {
          "output_type": "display_data",
          "data": {
            "text/html": [
              "<div>\n",
              "<style scoped>\n",
              "    .dataframe tbody tr th:only-of-type {\n",
              "        vertical-align: middle;\n",
              "    }\n",
              "\n",
              "    .dataframe tbody tr th {\n",
              "        vertical-align: top;\n",
              "    }\n",
              "\n",
              "    .dataframe thead th {\n",
              "        text-align: right;\n",
              "    }\n",
              "</style>\n",
              "<table border=\"1\" class=\"dataframe\">\n",
              "  <thead>\n",
              "    <tr style=\"text-align: right;\">\n",
              "      <th></th>\n",
              "      <th>title</th>\n",
              "    </tr>\n",
              "    <tr>\n",
              "      <th>release_year</th>\n",
              "      <th></th>\n",
              "    </tr>\n",
              "  </thead>\n",
              "  <tbody>\n",
              "    <tr>\n",
              "      <th>2017</th>\n",
              "      <td>1012</td>\n",
              "    </tr>\n",
              "    <tr>\n",
              "      <th>2018</th>\n",
              "      <td>1121</td>\n",
              "    </tr>\n",
              "    <tr>\n",
              "      <th>2019</th>\n",
              "      <td>996</td>\n",
              "    </tr>\n",
              "    <tr>\n",
              "      <th>2020</th>\n",
              "      <td>868</td>\n",
              "    </tr>\n",
              "    <tr>\n",
              "      <th>2021</th>\n",
              "      <td>31</td>\n",
              "    </tr>\n",
              "  </tbody>\n",
              "</table>\n",
              "</div>"
            ],
            "text/plain": [
              "              title\n",
              "release_year       \n",
              "2017           1012\n",
              "2018           1121\n",
              "2019            996\n",
              "2020            868\n",
              "2021             31"
            ]
          },
          "metadata": {}
        }
      ]
    },
    {
      "cell_type": "code",
      "metadata": {
        "colab": {
          "base_uri": "https://localhost:8080/",
          "height": 690
        },
        "id": "CLyeOGvLN5TU",
        "outputId": "bd4dce95-0620-46c0-db80-b83d5fe463fc"
      },
      "source": [
        "plt.figure(figsize=(15,10))\n",
        "plt.rc('font', family='NanumBarunGothic') \n",
        "x = year_netflix.index\n",
        "ax = sns.pointplot(x, y='title',data=year_netflix)\n",
        "plt.title('전체작품 개봉년도')\n",
        "plt.xticks(rotation=270)\n",
        "plt.show()"
      ],
      "execution_count": null,
      "outputs": [
        {
          "output_type": "stream",
          "name": "stderr",
          "text": [
            "/usr/local/lib/python3.7/dist-packages/seaborn/_decorators.py:43: FutureWarning: Pass the following variable as a keyword arg: x. From version 0.12, the only valid positional argument will be `data`, and passing other arguments without an explicit keyword will result in an error or misinterpretation.\n",
            "  FutureWarning\n"
          ]
        },
        {
          "output_type": "display_data",
          "data": {
            "image/png": "[encoded data removed]",
            "text/plain": [
              "<Figure size 1080x720 with 1 Axes>"
            ]
          },
          "metadata": {
            "needs_background": "light"
          }
        }
      ]
    },
    {
      "cell_type": "code",
      "metadata": {
        "colab": {
          "base_uri": "https://localhost:8080/",
          "height": 669
        },
        "id": "KUAC470I8WlE",
        "outputId": "7677e9be-99ee-4030-aa4b-3a27196f200a"
      },
      "source": [
        "# 영화 개봉년도만 추출하여 그래프로 출력하기 => 2001년도 부터 체크\n",
        "year_movie = netflix[netflix[\"type\"]==\"Movie\"][\"release_year\"].value_counts().head(20)\n",
        "year_movie.columns=['release_year']\n",
        "year_movie.sort_index\n",
        "year_movie =pd.DataFrame(year_movie)\n",
        "year_movie"
      ],
      "execution_count": null,
      "outputs": [
        {
          "output_type": "execute_result",
          "data": {
            "text/html": [
              "<div>\n",
              "<style scoped>\n",
              "    .dataframe tbody tr th:only-of-type {\n",
              "        vertical-align: middle;\n",
              "    }\n",
              "\n",
              "    .dataframe tbody tr th {\n",
              "        vertical-align: top;\n",
              "    }\n",
              "\n",
              "    .dataframe thead th {\n",
              "        text-align: right;\n",
              "    }\n",
              "</style>\n",
              "<table border=\"1\" class=\"dataframe\">\n",
              "  <thead>\n",
              "    <tr style=\"text-align: right;\">\n",
              "      <th></th>\n",
              "      <th>release_year</th>\n",
              "    </tr>\n",
              "  </thead>\n",
              "  <tbody>\n",
              "    <tr>\n",
              "      <th>2017</th>\n",
              "      <td>744</td>\n",
              "    </tr>\n",
              "    <tr>\n",
              "      <th>2018</th>\n",
              "      <td>734</td>\n",
              "    </tr>\n",
              "    <tr>\n",
              "      <th>2016</th>\n",
              "      <td>642</td>\n",
              "    </tr>\n",
              "    <tr>\n",
              "      <th>2019</th>\n",
              "      <td>582</td>\n",
              "    </tr>\n",
              "    <tr>\n",
              "      <th>2020</th>\n",
              "      <td>411</td>\n",
              "    </tr>\n",
              "    <tr>\n",
              "      <th>2015</th>\n",
              "      <td>382</td>\n",
              "    </tr>\n",
              "    <tr>\n",
              "      <th>2014</th>\n",
              "      <td>244</td>\n",
              "    </tr>\n",
              "    <tr>\n",
              "      <th>2013</th>\n",
              "      <td>202</td>\n",
              "    </tr>\n",
              "    <tr>\n",
              "      <th>2012</th>\n",
              "      <td>158</td>\n",
              "    </tr>\n",
              "    <tr>\n",
              "      <th>2010</th>\n",
              "      <td>136</td>\n",
              "    </tr>\n",
              "    <tr>\n",
              "      <th>2011</th>\n",
              "      <td>127</td>\n",
              "    </tr>\n",
              "    <tr>\n",
              "      <th>2009</th>\n",
              "      <td>103</td>\n",
              "    </tr>\n",
              "    <tr>\n",
              "      <th>2008</th>\n",
              "      <td>102</td>\n",
              "    </tr>\n",
              "    <tr>\n",
              "      <th>2007</th>\n",
              "      <td>72</td>\n",
              "    </tr>\n",
              "    <tr>\n",
              "      <th>2006</th>\n",
              "      <td>72</td>\n",
              "    </tr>\n",
              "    <tr>\n",
              "      <th>2005</th>\n",
              "      <td>61</td>\n",
              "    </tr>\n",
              "    <tr>\n",
              "      <th>2004</th>\n",
              "      <td>50</td>\n",
              "    </tr>\n",
              "    <tr>\n",
              "      <th>2003</th>\n",
              "      <td>40</td>\n",
              "    </tr>\n",
              "    <tr>\n",
              "      <th>2002</th>\n",
              "      <td>39</td>\n",
              "    </tr>\n",
              "    <tr>\n",
              "      <th>2001</th>\n",
              "      <td>32</td>\n",
              "    </tr>\n",
              "  </tbody>\n",
              "</table>\n",
              "</div>"
            ],
            "text/plain": [
              "      release_year\n",
              "2017           744\n",
              "2018           734\n",
              "2016           642\n",
              "2019           582\n",
              "2020           411\n",
              "2015           382\n",
              "2014           244\n",
              "2013           202\n",
              "2012           158\n",
              "2010           136\n",
              "2011           127\n",
              "2009           103\n",
              "2008           102\n",
              "2007            72\n",
              "2006            72\n",
              "2005            61\n",
              "2004            50\n",
              "2003            40\n",
              "2002            39\n",
              "2001            32"
            ]
          },
          "metadata": {},
          "execution_count": 37
        }
      ]
    },
    {
      "cell_type": "code",
      "metadata": {
        "colab": {
          "base_uri": "https://localhost:8080/",
          "height": 513
        },
        "id": "4UHDirr38W_z",
        "outputId": "52fd0989-1afc-4170-a071-9d2a2ac1fa08"
      },
      "source": [
        "# 그래프 작성 \n",
        "plt.figure(figsize = [10,7])\n",
        "plt.rc('font', family='NanumBarunGothic') \n",
        "x = year_movie.index\n",
        "ax = sns.pointplot(x,y = year_movie['release_year'], data=year_movie)\n",
        "plt.title('영화 개봉년도')\n",
        "plt.xticks(rotation=270)\n",
        "plt.show()"
      ],
      "execution_count": null,
      "outputs": [
        {
          "output_type": "stream",
          "name": "stderr",
          "text": [
            "/usr/local/lib/python3.7/dist-packages/seaborn/_decorators.py:43: FutureWarning: Pass the following variable as a keyword arg: x. From version 0.12, the only valid positional argument will be `data`, and passing other arguments without an explicit keyword will result in an error or misinterpretation.\n",
            "  FutureWarning\n"
          ]
        },
        {
          "output_type": "display_data",
          "data": {
            "image/png": "[encoded data removed]",
            "text/plain": [
              "<Figure size 720x504 with 1 Axes>"
            ]
          },
          "metadata": {
            "needs_background": "light"
          }
        }
      ]
    },
    {
      "cell_type": "code",
      "metadata": {
        "colab": {
          "base_uri": "https://localhost:8080/",
          "height": 669
        },
        "id": "qoTm1M4_9lv7",
        "outputId": "76d74ecc-81e9-48f2-8f91-5eb2796cc30d"
      },
      "source": [
        "# tv프로그램 개봉년도만 추출하여 그래프로 출력하기 => 2001년도 부터 체크\n",
        "year_TVShow = netflix[netflix[\"type\"]==\"TV Show\"][\"release_year\"].value_counts().head(20)\n",
        "year_TVShow.columns=['release_year']\n",
        "year_TVShow.sort_index\n",
        "year_TVShow =pd.DataFrame(year_TVShow)\n",
        "year_TVShow"
      ],
      "execution_count": null,
      "outputs": [
        {
          "output_type": "execute_result",
          "data": {
            "text/html": [
              "<div>\n",
              "<style scoped>\n",
              "    .dataframe tbody tr th:only-of-type {\n",
              "        vertical-align: middle;\n",
              "    }\n",
              "\n",
              "    .dataframe tbody tr th {\n",
              "        vertical-align: top;\n",
              "    }\n",
              "\n",
              "    .dataframe thead th {\n",
              "        text-align: right;\n",
              "    }\n",
              "</style>\n",
              "<table border=\"1\" class=\"dataframe\">\n",
              "  <thead>\n",
              "    <tr style=\"text-align: right;\">\n",
              "      <th></th>\n",
              "      <th>release_year</th>\n",
              "    </tr>\n",
              "  </thead>\n",
              "  <tbody>\n",
              "    <tr>\n",
              "      <th>2020</th>\n",
              "      <td>457</td>\n",
              "    </tr>\n",
              "    <tr>\n",
              "      <th>2019</th>\n",
              "      <td>414</td>\n",
              "    </tr>\n",
              "    <tr>\n",
              "      <th>2018</th>\n",
              "      <td>387</td>\n",
              "    </tr>\n",
              "    <tr>\n",
              "      <th>2017</th>\n",
              "      <td>268</td>\n",
              "    </tr>\n",
              "    <tr>\n",
              "      <th>2016</th>\n",
              "      <td>240</td>\n",
              "    </tr>\n",
              "    <tr>\n",
              "      <th>2015</th>\n",
              "      <td>159</td>\n",
              "    </tr>\n",
              "    <tr>\n",
              "      <th>2014</th>\n",
              "      <td>90</td>\n",
              "    </tr>\n",
              "    <tr>\n",
              "      <th>2013</th>\n",
              "      <td>65</td>\n",
              "    </tr>\n",
              "    <tr>\n",
              "      <th>2012</th>\n",
              "      <td>61</td>\n",
              "    </tr>\n",
              "    <tr>\n",
              "      <th>2011</th>\n",
              "      <td>39</td>\n",
              "    </tr>\n",
              "    <tr>\n",
              "      <th>2010</th>\n",
              "      <td>37</td>\n",
              "    </tr>\n",
              "    <tr>\n",
              "      <th>2009</th>\n",
              "      <td>34</td>\n",
              "    </tr>\n",
              "    <tr>\n",
              "      <th>2008</th>\n",
              "      <td>23</td>\n",
              "    </tr>\n",
              "    <tr>\n",
              "      <th>2021</th>\n",
              "      <td>19</td>\n",
              "    </tr>\n",
              "    <tr>\n",
              "      <th>2006</th>\n",
              "      <td>13</td>\n",
              "    </tr>\n",
              "    <tr>\n",
              "      <th>2007</th>\n",
              "      <td>13</td>\n",
              "    </tr>\n",
              "    <tr>\n",
              "      <th>2005</th>\n",
              "      <td>12</td>\n",
              "    </tr>\n",
              "    <tr>\n",
              "      <th>2004</th>\n",
              "      <td>9</td>\n",
              "    </tr>\n",
              "    <tr>\n",
              "      <th>2003</th>\n",
              "      <td>9</td>\n",
              "    </tr>\n",
              "    <tr>\n",
              "      <th>1999</th>\n",
              "      <td>7</td>\n",
              "    </tr>\n",
              "  </tbody>\n",
              "</table>\n",
              "</div>"
            ],
            "text/plain": [
              "      release_year\n",
              "2020           457\n",
              "2019           414\n",
              "2018           387\n",
              "2017           268\n",
              "2016           240\n",
              "2015           159\n",
              "2014            90\n",
              "2013            65\n",
              "2012            61\n",
              "2011            39\n",
              "2010            37\n",
              "2009            34\n",
              "2008            23\n",
              "2021            19\n",
              "2006            13\n",
              "2007            13\n",
              "2005            12\n",
              "2004             9\n",
              "2003             9\n",
              "1999             7"
            ]
          },
          "metadata": {},
          "execution_count": 47
        }
      ]
    },
    {
      "cell_type": "code",
      "metadata": {
        "colab": {
          "base_uri": "https://localhost:8080/",
          "height": 513
        },
        "id": "AM38Hwf7Eao-",
        "outputId": "7f1499f9-786b-41c4-d384-f89f74edc53e"
      },
      "source": [
        "# 그래프 작성 \n",
        "plt.figure(figsize = [10,7])\n",
        "plt.rc('font', family='NanumBarunGothic') \n",
        "x = year_TVShow.index\n",
        "ax = sns.pointplot(x,y = year_TVShow['release_year'], data=year_TVShow, color='#FC7F77')\n",
        "plt.title('TV 프로그램 개봉년도')\n",
        "plt.xticks(rotation=270)\n",
        "plt.show()"
      ],
      "execution_count": null,
      "outputs": [
        {
          "output_type": "stream",
          "name": "stderr",
          "text": [
            "/usr/local/lib/python3.7/dist-packages/seaborn/_decorators.py:43: FutureWarning: Pass the following variable as a keyword arg: x. From version 0.12, the only valid positional argument will be `data`, and passing other arguments without an explicit keyword will result in an error or misinterpretation.\n",
            "  FutureWarning\n"
          ]
        },
        {
          "output_type": "display_data",
          "data": {
            "image/png": "[encoded data removed]",
            "text/plain": [
              "<Figure size 720x504 with 1 Axes>"
            ]
          },
          "metadata": {
            "needs_background": "light"
          }
        }
      ]
    },
    {
      "cell_type": "markdown",
      "metadata": {
        "id": "oLHnPjc-TuYZ"
      },
      "source": [
        "---"
      ]
    },
    {
      "cell_type": "code",
      "metadata": {
        "colab": {
          "base_uri": "https://localhost:8080/"
        },
        "id": "awIHl_KmU5vd",
        "outputId": "3f39945c-7361-40b1-97bd-2865b5140cfe"
      },
      "source": [
        "# Netflix 작품 국가 상위 10개국 분석 => 공동제작인 경우가 多 => 정리할 필요가 있다, \n",
        "netflix['country'].unique() "
      ],
      "execution_count": null,
      "outputs": [
        {
          "output_type": "execute_result",
          "data": {
            "text/plain": [
              "array(['Brazil', 'Mexico', 'Singapore', 'United States', 'Turkey',\n",
              "       'Egypt', 'India', 'Poland, United States', 'Thailand', 'Nigeria',\n",
              "       nan, 'Norway, Iceland, United States', 'United Kingdom', 'Japan',\n",
              "       'South Korea', 'Italy', 'Canada', 'Indonesia', 'Romania', 'Spain',\n",
              "       'Iceland', 'South Africa, Nigeria', 'France',\n",
              "       'United States, South Africa', 'Portugal, Spain',\n",
              "       'Hong Kong, China, Singapore', 'United States, Germany',\n",
              "       'South Africa, China, United States', 'Argentina',\n",
              "       'United States, France, Serbia', 'Germany',\n",
              "       'Denmark, France, Poland', 'Poland', 'Kenya',\n",
              "       'New Zealand, United Kingdom', 'Pakistan', 'Australia',\n",
              "       'Australia, United States', 'Mexico, United States',\n",
              "       'United States, China', 'China, Hong Kong', 'Taiwan',\n",
              "       'United States, United Kingdom', 'France, South Korea, Japan',\n",
              "       'United States, Canada', 'United Kingdom, United States',\n",
              "       'Netherlands, Denmark, South Africa', 'Canada, United States',\n",
              "       'Denmark', 'Hong Kong', 'France, Netherlands, Singapore', 'China',\n",
              "       'Philippines', 'United Kingdom, Spain, United States',\n",
              "       'United Arab Emirates, United States', 'Netherlands',\n",
              "       'United Kingdom, Hong Kong', 'Iran, France',\n",
              "       'United States, United Kingdom, France',\n",
              "       'United Kingdom, France, Belgium, United States, China',\n",
              "       'Argentina, Brazil, France, Poland, Germany, Denmark',\n",
              "       'Israel, United States', 'United States, Mexico',\n",
              "       'Uruguay, Argentina, Spain', 'Singapore, France',\n",
              "       'United Kingdom, United States, France, Germany',\n",
              "       'Turkey, United States', 'Bulgaria, United States',\n",
              "       'Australia, France', 'Hong Kong, Iceland, United States',\n",
              "       'United Arab Emirates', 'United States, Chile',\n",
              "       'Germany, France, Russia', 'Mauritius, South Africa',\n",
              "       'United States, Japan', 'Lebanon', 'United States, Bulgaria',\n",
              "       'Colombia', 'Uruguay, Argentina', 'Egypt, Algeria',\n",
              "       'France, Egypt', 'Uruguay', 'Soviet Union, India',\n",
              "       'Sweden, United States', 'South Africa', 'Malaysia',\n",
              "       'Ireland, United Kingdom, United States', 'Spain, Italy',\n",
              "       'United Kingdom, France, Germany',\n",
              "       'United States, Germany, Canada', 'United States, India',\n",
              "       'Japan, United States', 'Denmark, United States',\n",
              "       'South Africa, United States', 'Canada, Luxembourg',\n",
              "       'Serbia, United States', 'Canada, Nigeria',\n",
              "       'Iceland, Sweden, Belgium', 'Ireland, Canada',\n",
              "       'United States, Italy', 'Finland', 'India, Germany',\n",
              "       'China, Spain, South Korea, United States', 'Spain, Belgium',\n",
              "       'United Kingdom, Canada, United States, Germany',\n",
              "       'Brazil, Netherlands, United States, Colombia, Austria, Germany',\n",
              "       'France, Canada, Belgium',\n",
              "       'India, United Kingdom, China, Canada, Japan, South Korea, United States',\n",
              "       'France, Belgium', 'Indonesia, South Korea, Singapore', 'Norway',\n",
              "       'Peru', 'France, Senegal, Belgium', 'Canada, France', 'Chile',\n",
              "       'Romania, France, Switzerland, Germany',\n",
              "       'Bulgaria, United States, Spain, Canada', 'Sweden, Netherlands',\n",
              "       'Ghana', 'France, United States, Mexico',\n",
              "       'Australia, United Kingdom, United Arab Emirates, Canada',\n",
              "       'Singapore, United States', 'Japan, Canada, United States',\n",
              "       'Saudi Arabia',\n",
              "       'Australia, Armenia, Japan, Jordan, Mexico, Mongolia, New Zealand, Philippines, South Africa, Sweden, United States, Uruguay',\n",
              "       'United States, France', 'Norway, Denmark, Netherlands, Sweden',\n",
              "       'Namibia', 'Mexico, Finland', 'United States, Australia', 'Russia',\n",
              "       'Australia, Canada', 'United Kingdom, Ireland', 'Belgium, France',\n",
              "       'New Zealand', 'Uruguay, Spain, Mexico', 'South Korea, China',\n",
              "       'United States, Canada, Indonesia, United Kingdom, China, Singapore',\n",
              "       'India, Iran', 'United States, France, Japan',\n",
              "       'United Kingdom, France', 'Turkey, India', 'Philippines, Qatar',\n",
              "       'Vietnam', 'Ireland, Luxembourg, Belgium',\n",
              "       'Saudi Arabia, Syria, Egypt, Lebanon, Kuwait',\n",
              "       'Russia, United States', 'United Kingdom, Russia, United States',\n",
              "       'Argentina, Spain', 'Germany, Jordan, Netherlands',\n",
              "       'Hong Kong, China', 'Argentina, United States',\n",
              "       'France, Belgium, Spain', 'Germany, United States',\n",
              "       'Denmark, Sweden, Israel, United States',\n",
              "       'Ireland, United Kingdom', 'United States, Iceland',\n",
              "       'United Arab Emirates, United Kingdom, India', 'Sweden',\n",
              "       'Norway, Germany, Sweden', 'Finland, France', 'Denmark, Spain',\n",
              "       'United Kingdom, Russia',\n",
              "       'United States, United Kingdom, Australia',\n",
              "       'India, United Kingdom', 'United States, Canada, Ireland',\n",
              "       'Canada, United Kingdom',\n",
              "       'United States, Israel, Italy, South Africa',\n",
              "       'India, United States', 'United Kingdom, China',\n",
              "       'Indonesia, Singapore', 'Netherlands, Denmark, France, Germany',\n",
              "       'South Korea, Japan',\n",
              "       'Philippines, Canada, United Kingdom, United States',\n",
              "       'France, Malta, United States', 'Kuwait',\n",
              "       'United Kingdom, Pakistan', 'Ireland', 'France, New Zealand',\n",
              "       'United Kingdom, United States, Australia',\n",
              "       'United Kingdom, Czech Republic, United States, Germany, Bahamas',\n",
              "       'United States, Australia, China',\n",
              "       'China, Germany, India, United States', 'Germany, Sri Lanka',\n",
              "       'United States, Sweden', 'Canada, United States, Cayman Islands',\n",
              "       'India, France', 'United Kingdom, Canada',\n",
              "       'United States, India, Bangladesh',\n",
              "       'United States, Canada, France',\n",
              "       'Taiwan, China, France, United States', 'Brazil, France, Germany',\n",
              "       'United States,', 'Turkey, France, Germany, Poland',\n",
              "       'Australia, New Zealand, United States',\n",
              "       'Germany, United States, Hong Kong, Singapore',\n",
              "       'France, Germany, Switzerland', 'Mexico, Argentina',\n",
              "       'Italy, United States, Argentina',\n",
              "       'Germany, France, Luxembourg, United Kingdom, United States',\n",
              "       'Canada, United States, United Kingdom',\n",
              "       'United Kingdom, Canada, Italy', 'Czech Republic, France',\n",
              "       'Zimbabwe', 'United Kingdom, France, Germany, Spain',\n",
              "       'Taiwan, Hong Kong, United States, China', 'China, United States',\n",
              "       'Canada, Brazil', 'United Kingdom, Australia', 'Hungary',\n",
              "       'Germany, Australia', 'United Kingdom, Poland, United States',\n",
              "       'Bulgaria', 'Philippines, United States', 'Finland, Germany',\n",
              "       'United States, Thailand',\n",
              "       'Spain, Belgium, Switzerland, United States, China, United Kingdom',\n",
              "       'Denmark, Zimbabwe', 'United Kingdom, South Africa',\n",
              "       'Finland, Sweden, Norway, Latvia, Germany',\n",
              "       'United Kingdom, India',\n",
              "       'South Africa, United States, New Zealand, Canada',\n",
              "       'France, Qatar', 'France, Algeria',\n",
              "       'United States, Italy, United Kingdom, Liechtenstein',\n",
              "       'Denmark, France, Belgium, Italy, Netherlands, United States, United Kingdom',\n",
              "       'United States, Australia, Mexico',\n",
              "       'United Kingdom, Czech Republic, Germany, United States',\n",
              "       'Russia, Poland, Serbia', 'France, China, Japan, United States',\n",
              "       'United States, South Korea, China', 'Germany, Belgium',\n",
              "       'Chile, Argentina', 'China, United States, United Kingdom',\n",
              "       'Pakistan, Norway, United States',\n",
              "       'United Kingdom, Japan, United States', 'Philippines, Singapore',\n",
              "       'United States, Canada, Belgium, United Kingdom', 'Venezuela',\n",
              "       'Argentina, Uruguay, Serbia', 'United States, Mexico, Colombia',\n",
              "       'Colombia, Peru, United Kingdom', 'Brazil, United States',\n",
              "       'Czech Republic, United States',\n",
              "       'Canada, France, Italy, Morocco, United States',\n",
              "       'Canada, Spain, France', 'Hong Kong, United States',\n",
              "       'France, Canada, China, Cambodia', 'United States, Indonesia',\n",
              "       'Spain, France', 'Spain, Mexico, France', 'Spain, France, Italy',\n",
              "       'Spain, France, United States', 'United States, France, Canada',\n",
              "       'Israel', 'Italy, France', 'United Kingdom, Canada, United States',\n",
              "       'Cambodia, United States', 'China, Japan',\n",
              "       'United Arab Emirates, United States, United Kingdom',\n",
              "       'Argentina, Italy', 'United Kingdom, Israel, Russia',\n",
              "       'Italy, Switzerland, Albania, Poland', 'Spain, Cuba',\n",
              "       'United States, Brazil', 'United States, France, Mexico',\n",
              "       'United States, Nicaragua', 'Austria, Germany',\n",
              "       'United Arab Emirates, Jordan, Lebanon',\n",
              "       'France, United Kingdom, United States',\n",
              "       'United Kingdom, United States, Spain, Germany, Greece, Canada',\n",
              "       'France, Belgium, Luxembourg, Cambodia,', 'Italy, Turkey',\n",
              "       'Brazil, France', 'India, Turkey', 'Kenya, United States',\n",
              "       'United States, South Korea', 'South Korea, United States',\n",
              "       'Italy, Canada, France', 'Thailand, United States',\n",
              "       'United Kingdom, Denmark, Canada, Croatia', 'Netherlands, Belgium',\n",
              "       'United Kingdom, Canada, United States, Cayman Islands',\n",
              "       'Italy, Germany', 'United States, France, United Kingdom, Japan',\n",
              "       'United States, United Kingdom, Denmark, Sweden',\n",
              "       'United States, United Kingdom, Italy',\n",
              "       'United States, France, Canada, Spain', 'Uruguay, Guatemala',\n",
              "       'Germany, Australia, France, China',\n",
              "       'United States, United Kingdom, Japan',\n",
              "       'United States, United Kingdom, Canada',\n",
              "       'Italy, Switzerland, France, Germany',\n",
              "       'Russia, United States, China', 'United States, Canada, Germany',\n",
              "       'United States, Czech Republic', 'Ireland, United States',\n",
              "       'United States, United Arab Emirates',\n",
              "       'France, Australia, Germany', 'Hong Kong, China, United States',\n",
              "       'Lebanon, United Arab Emirates, France, Switzerland, Germany',\n",
              "       'United States, South Korea, Japan', 'Romania, United States',\n",
              "       'West Germany', 'United States, Ireland', 'Chile, Italy',\n",
              "       'Ireland, United Kingdom, Italy, United States', 'Belgium',\n",
              "       'Poland,', 'Slovenia, Croatia, Germany, Czech Republic, Qatar',\n",
              "       'Canada, United Kingdom, Netherlands',\n",
              "       'United Kingdom, United States, France',\n",
              "       'Indonesia, United Kingdom', 'United States, Spain, Germany',\n",
              "       'India, Japan', 'Switzerland, France, Belgium, United States',\n",
              "       'China, South Korea, United States',\n",
              "       'United Kingdom, France, Belgium',\n",
              "       'Canada, Ireland, United States',\n",
              "       'United Kingdom, United States, Dominican Republic',\n",
              "       'United States, Senegal', 'Germany, United Kingdom, United States',\n",
              "       'United States, Canada, United Kingdom',\n",
              "       'Canada, United States, France', 'United Kingdom, Germany, Canada',\n",
              "       'Argentina, France', 'South Africa, Germany, Netherlands, France',\n",
              "       'Canada, United States, United Kingdom, France, Luxembourg',\n",
              "       'Finland, Germany, Belgium',\n",
              "       'United States, United Kingdom, Germany', 'Taiwan, China',\n",
              "       'Cambodia', 'Spain, Portugal', 'Ireland, United States, France',\n",
              "       'Jordan', 'Austria', 'Germany, United States, Canada',\n",
              "       'United Kingdom, Germany, Canada, United States',\n",
              "       'United States, France, Canada, Lebanon, Qatar',\n",
              "       'Indonesia, Netherlands',\n",
              "       'Netherlands, Belgium, United Kingdom, United States',\n",
              "       'China, United States, Australia',\n",
              "       'France, Belgium, China, United States', 'Spain, United Kingdom',\n",
              "       'United States, Chile, Israel', 'Bangladesh',\n",
              "       'United Kingdom, Norway, Denmark, Germany, Sweden',\n",
              "       'United States, Japan, Canada', 'Norway, Denmark, Sweden',\n",
              "       'China, India, Nepal', 'United States, Argentina',\n",
              "       'Mexico, United States, Spain, Colombia',\n",
              "       'Colombia, Mexico, United States',\n",
              "       'United Kingdom, Belgium, Sweden', 'Nigeria, United Kingdom',\n",
              "       'United Kingdom, South Korea', 'United States, Taiwan',\n",
              "       'Netherlands, Belgium, Germany, Jordan', 'France, Canada',\n",
              "       'United Kingdom, France, United States',\n",
              "       'Denmark, Singapore, Canada, United States', 'Denmark, China',\n",
              "       'Malaysia, Singapore, Hong Kong', 'Norway, United States',\n",
              "       'United States, Philippines', 'United States, Greece, Brazil',\n",
              "       'France, United States', 'South Korea, France',\n",
              "       'United States, Australia, Samoa, United Kingdom',\n",
              "       'Canada, South Africa', 'United Kingdom, Italy',\n",
              "       'Germany, United Kingdom', 'China, United Kingdom',\n",
              "       'Argentina, Chile, Peru', 'United States, Russia',\n",
              "       'Uruguay, Germany', 'Turkey, Azerbaijan',\n",
              "       'United States, China, Hong Kong',\n",
              "       'Canada, Germany, France, United States',\n",
              "       'Argentina, United States, Mexico',\n",
              "       'France, United Kingdom, India', 'China, Taiwan',\n",
              "       'Italy, United Kingdom, France', 'Poland, West Germany',\n",
              "       'Germany, United States, Sweden', 'Canada, Spain',\n",
              "       'United Kingdom, France, Belgium, United States', 'France, Japan',\n",
              "       'Netherlands, Germany, Italy, Canada', 'United States, Cambodia',\n",
              "       'United States, Greece', 'United States, China, Colombia',\n",
              "       'United States, Spain, Italy',\n",
              "       'Norway, United Kingdom, France, Ireland',\n",
              "       'United States, Bermuda, Ecuador', 'United Kingdom, Poland',\n",
              "       'China, Canada, United States', 'United States, Spain',\n",
              "       'India, Mexico', 'United Kingdom, West Germany',\n",
              "       'Pakistan, United States', 'Israel, Sweden, Germany, Netherlands',\n",
              "       'Chile, United States, France', 'France, Morocco',\n",
              "       'United Kingdom, Germany', 'Georgia, Germany, France',\n",
              "       'Switzerland, France', 'Turkey, South Korea', 'Italy, India',\n",
              "       'United States, Botswana', 'United States, Colombia, Mexico',\n",
              "       'Chile, Argentina, France, Spain, United States',\n",
              "       'Puerto Rico, United States, Colombia', 'United States, Nigeria',\n",
              "       'Germany, United States, France',\n",
              "       'Spain, Germany, Denmark, United States',\n",
              "       'United Kingdom, United States, Japan',\n",
              "       'Netherlands, United States',\n",
              "       'United States, India, South Korea, China',\n",
              "       'Denmark, Germany, Belgium, United Kingdom, France',\n",
              "       'Denmark, Germany, Belgium, United Kingdom, France, Sweden',\n",
              "       'France, Switzerland, Spain, United States, United Arab Emirates',\n",
              "       'Norway, Sweden', 'United States, Ireland, United Kingdom, India',\n",
              "       'United Kingdom, Singapore', 'Spain, Germany',\n",
              "       'Germany, Czech Republic',\n",
              "       'Denmark, Brazil, France, Portugal, Sweden',\n",
              "       'Brazil, India, China, United States', 'India, Germany, Austria',\n",
              "       'Italy, United States', 'Denmark, France, United States, Sweden',\n",
              "       'Australia, Iraq', 'China, Morocco, Hong Kong', 'Spain, Colombia',\n",
              "       'Australia, United Arab Emirates',\n",
              "       'Canada, United States, Germany', 'France, Belgium, Italy',\n",
              "       'United Kingdom, Thailand', 'Venezuela, Colombia',\n",
              "       'France, Luxembourg, Canada', 'India, Nepal', 'Mexico, Spain',\n",
              "       'Colombia, United States', 'Colombia, Mexico',\n",
              "       'France, Germany, Czech Republic, Belgium',\n",
              "       'Germany, China, United Kingdom', 'Canada, Hungary, United States',\n",
              "       'Pakistan, United Arab Emirates', 'France, United Kingdom',\n",
              "       'Spain, United Kingdom, United States', 'United Kingdom, Kenya',\n",
              "       'United States, Norway, Canada', 'Canada, United States, Ireland',\n",
              "       'Switzerland, Vatican City, Italy, Germany, France',\n",
              "       'Portugal, France, Poland, United States',\n",
              "       'France, Japan, United States', 'United States, New Zealand',\n",
              "       'United States, New Zealand, Japan',\n",
              "       'United States, Netherlands, Japan, France', 'India, Switzerland',\n",
              "       'Canada, India', 'Canada, Japan, United States',\n",
              "       'United States, Morocco', 'United States, Mexico, Spain, Malta',\n",
              "       'Norway, Denmark', 'South Korea, Canada, United States, China',\n",
              "       'Singapore, Japan, France',\n",
              "       'Canada, Mexico, Germany, South Africa',\n",
              "       'United Kingdom, United States, Canada',\n",
              "       'Germany, France, United States, Canada, United Kingdom',\n",
              "       'Peru, Germany, Norway', 'Singapore, Malaysia',\n",
              "       'United States, Uruguay', 'India, Canada',\n",
              "       'Ireland, Canada, United Kingdom, United States',\n",
              "       'United States, Germany, Australia', 'Senegal',\n",
              "       'Israel, Germany, France', 'Australia, France, Ireland',\n",
              "       'South Africa, Angola', 'Austria, Czech Republic',\n",
              "       'Australia, India', 'United States, United Kingdom, Canada, Japan',\n",
              "       'Sweden, United Kingdom, Finland', 'Hong Kong, Taiwan',\n",
              "       'United States, United Kingdom, Spain, South Korea',\n",
              "       'South Korea, China, United States', 'Guatemala', 'Ukraine',\n",
              "       'United States, United Kingdom, Canada, China',\n",
              "       'Italy, South Africa, West Germany, Australia, United States',\n",
              "       'United Kingdom, Finland, Germany',\n",
              "       'South Africa, United States, Germany',\n",
              "       'United States, Germany, United Kingdom, Australia',\n",
              "       'India, Soviet Union', 'Italy, France, Switzerland',\n",
              "       'Canada, France, United States', 'United States, Colombia',\n",
              "       'India, Malaysia', 'Switzerland, United States',\n",
              "       'Thailand, Canada, United States',\n",
              "       'China, Hong Kong, United States', 'United Kingdom, New Zealand',\n",
              "       'United Kingdom, France, Germany, United States',\n",
              "       'South Korea, Czech Republic',\n",
              "       'Czech Republic, United Kingdom, France',\n",
              "       'Australia, United Kingdom, Canada',\n",
              "       'Canada, United Kingdom, United States', 'United States, Hungary',\n",
              "       'Jamaica, United States', 'Switzerland',\n",
              "       'Australia, United Kingdom, United States, New Zealand, Italy, France',\n",
              "       'France, United States, Canada', 'Australia, United Kingdom',\n",
              "       'United States, Denmark',\n",
              "       'United Kingdom, France, Canada, Belgium, United States',\n",
              "       'Denmark, United Kingdom, Sweden', 'Belarus', 'Cyprus',\n",
              "       'Lebanon, United States, United Arab Emirates',\n",
              "       'United States, Hong Kong', 'United States, Kazakhstan',\n",
              "       'Argentina, France, United States, Germany, Qatar',\n",
              "       'United States, Germany, United Kingdom',\n",
              "       'United States, Germany, United Kingdom, Italy',\n",
              "       'United States, New Zealand, United Kingdom',\n",
              "       'Finland, United States', 'Spain, France, Uruguay',\n",
              "       'France, Belgium, United States', 'France, Canada, United States',\n",
              "       'Spain, Argentina', 'United Kingdom, India, United States',\n",
              "       'Chile, France',\n",
              "       'United States, United Kingdom, France, Germany, Japan',\n",
              "       'Canada, Norway', 'United States, Hungary, Ireland, Canada',\n",
              "       'United States, Canada, China', 'United Kingdom, Malawi',\n",
              "       'Ireland, Canada, Luxembourg, United States, United Kingdom, Philippines, India',\n",
              "       'United States, Czech Republic, United Kingdom',\n",
              "       'Ghana, United States', 'Israel, Germany', 'Spain, Mexico',\n",
              "       'Mexico, France', 'Brazil, United Kingdom',\n",
              "       'France, Belgium, Luxembourg, Romania, Canada, United States',\n",
              "       'Israel, Germany, Poland, Luxembourg, Belgium, France, United States',\n",
              "       'France, Germany', 'United States, Malta, France, United Kingdom',\n",
              "       'United Kingdom, United States, Germany, Denmark, Belgium, Japan',\n",
              "       'Austria, United States', 'Canada, Australia',\n",
              "       'Greece, United States',\n",
              "       'United Kingdom, France, Belgium, Canada, United States',\n",
              "       'Argentina, Chile', 'Czech Republic, Slovakia',\n",
              "       'United Kingdom, Germany, United States, France',\n",
              "       'United Kingdom, Lithuania', 'Egypt, France',\n",
              "       'Spain, France, Canada', 'United States, Greece, United Kingdom',\n",
              "       'United Kingdom, China, United States, India', 'Taiwan, Malaysia',\n",
              "       'United States, Sweden, Norway',\n",
              "       'United Kingdom, United States, Morocco',\n",
              "       'United States, United Kingdom, Morocco',\n",
              "       'United States, China, Canada', 'Spain, Canada, United States',\n",
              "       'Canada, Belgium', 'United States, India, United Arab Emirates',\n",
              "       'United Kingdom, Canada, France, United States',\n",
              "       'Spain, Thailand, United States', 'Canada, Germany, South Africa',\n",
              "       'India, Germany, France',\n",
              "       'United States, Israel, United Kingdom, Canada',\n",
              "       'United Kingdom, Hungary, Australia', 'Lebanon, France',\n",
              "       'Belgium, Ireland, Netherlands, Germany, Afghanistan',\n",
              "       'Chile, Peru', 'Paraguay, Argentina',\n",
              "       'United Kingdom, Italy, Israel, Peru, United States',\n",
              "       'Norway, Germany', 'France, Canada, Italy, United States, China',\n",
              "       'Netherlands, Germany, Denmark, United Kingdom', 'France, Lebanon',\n",
              "       'Ireland, United Kingdom, Greece, France, Netherlands',\n",
              "       'Denmark, Indonesia, Finland, Norway, United Kingdom, Israel, France, United States, Germany, Netherlands',\n",
              "       'New Zealand, United States', 'Argentina, Uruguay, Spain, France',\n",
              "       'United Kingdom, Germany, United States',\n",
              "       'United States, Australia, South Africa, United Kingdom',\n",
              "       'Italy, Belgium', 'United States, Germany, Mexico',\n",
              "       'Chile, Spain, Argentina, Germany', 'Germany, Italy',\n",
              "       'United Kingdom, Nigeria',\n",
              "       'Belgium, United Kingdom, United States', 'Australia, New Zealand',\n",
              "       'Spain, Switzerland', 'Indonesia, United States',\n",
              "       'Canada, South Korea, United States',\n",
              "       'France, Iran, United States', 'Croatia',\n",
              "       'Somalia, Kenya, Sudan, South Africa, United States',\n",
              "       'Ireland, France, Iceland, United States, Mexico, Belgium, United Kingdom, Hong Kong',\n",
              "       'Spain, United States', 'United States, Canada, Japan, Panama',\n",
              "       'United Kingdom, Spain, Belgium', 'Serbia, South Korea, Slovenia',\n",
              "       'Denmark, United Kingdom, South Africa, Sweden, Belgium',\n",
              "       'Germany, Canada, United States', 'Ireland, South Africa',\n",
              "       'Canada, Germany', 'Spain, France, Canada, United States',\n",
              "       'India, United Kingdom, Canada, United States',\n",
              "       'United States, Belgium, Canada',\n",
              "       'United States, France, Canada, Belgium',\n",
              "       'United Kingdom, Egypt, United States',\n",
              "       'United Kingdom, Germany, United Arab Emirates, New Zealand',\n",
              "       'United Kingdom, France, United States, Belgium, Luxembourg, China, Germany',\n",
              "       'United Kingdom, Spain, United States, Germany',\n",
              "       'United States, France, Italy, United Kingdom', 'Georgia',\n",
              "       'United States, United Kingdom, India',\n",
              "       'Ireland, Canada, United States, United Kingdom',\n",
              "       'New Zealand, United Kingdom, Australia', 'United States, Poland',\n",
              "       'United Arab Emirates, Romania',\n",
              "       'United Kingdom, Australia, Canada, United States',\n",
              "       'Mexico, Netherlands', 'Spain, Italy, Argentina',\n",
              "       'Germany, United States, Italy', 'United States, Venezuela',\n",
              "       'United Kingdom, Canada, Japan', 'Canada, Japan, Netherlands',\n",
              "       'United Kingdom, United States, Czech Republic',\n",
              "       'United Kingdom, China, United States',\n",
              "       'United Kingdom, Brazil, Germany',\n",
              "       'Thailand, China, United States',\n",
              "       'United Kingdom, Namibia, South Africa, Zimbabwe, United States',\n",
              "       'United Kingdom, South Africa, Australia, United States',\n",
              "       'Canada, United States, India, United Kingdom',\n",
              "       'United States, Brazil, South Korea, Mexico, Japan, Germany',\n",
              "       'France, Lebanon, United Kingdom',\n",
              "       'United Kingdom, Jordan, Qatar, Iran',\n",
              "       'Switzerland, United Kingdom, United States',\n",
              "       'Belgium, Netherlands',\n",
              "       'United Kingdom, Germany, France, United States',\n",
              "       'Romania, United Kingdom', 'Lebanon, Qatar',\n",
              "       'United Kingdom, India, Sweden', 'United Kingdom, Belgium',\n",
              "       'India, Pakistan', 'United Kingdom,',\n",
              "       'Saudi Arabia, Netherlands, Germany, Jordan, United Arab Emirates, United States',\n",
              "       'France, Brazil, Spain, Belgium',\n",
              "       'United States, Brazil, India, Uganda, China',\n",
              "       'United Kingdom, Ireland, United States',\n",
              "       'Lebanon, Canada, France', 'India, Australia',\n",
              "       'Austria, Iraq, United States', 'France, Norway, Lebanon, Belgium',\n",
              "       'United Kingdom, France, United States, Belgium',\n",
              "       'Saudi Arabia, United Arab Emirates',\n",
              "       'Peru, United States, United Kingdom',\n",
              "       'Germany, United States, United Kingdom, Canada',\n",
              "       'Uruguay, Argentina, Germany, Spain',\n",
              "       'France, Luxembourg, United States', 'United Kingdom, Spain',\n",
              "       'Canada, India, Thailand, United States, United Arab Emirates',\n",
              "       'Romania, Bulgaria, Hungary',\n",
              "       'United States, East Germany, West Germany',\n",
              "       'France, Netherlands, South Africa, Finland',\n",
              "       'United Kingdom, Ukraine, United States',\n",
              "       'Egypt, Austria, United States', 'Russia, Spain',\n",
              "       'Croatia, Slovenia, Serbia, Montenegro', 'Japan, Canada',\n",
              "       'United States, France, South Korea, Indonesia',\n",
              "       'United Arab Emirates, Jordan',\n",
              "       'Sweden, Czech Republic, United Kingdom, Denmark, Netherlands'],\n",
              "      dtype=object)"
            ]
          },
          "metadata": {},
          "execution_count": 19
        }
      ]
    },
    {
      "cell_type": "code",
      "metadata": {
        "colab": {
          "base_uri": "https://localhost:8080/"
        },
        "id": "Qp3WMasPN5q2",
        "outputId": "ae30b521-f02d-4111-bc4c-18e423a64e6f"
      },
      "source": [
        "# 공동제작 나라 분류하기\n",
        "netflix_countries = netflix.set_index('title').country.str.split(', ', expand=True).stack().reset_index(level=1, drop=True);\n",
        "netflix_countries"
      ],
      "execution_count": null,
      "outputs": [
        {
          "output_type": "execute_result",
          "data": {
            "text/plain": [
              "title\n",
              "3%                                                 Brazil\n",
              "7:19                                               Mexico\n",
              "23:59                                           Singapore\n",
              "9                                           United States\n",
              "21                                          United States\n",
              "                                                ...      \n",
              "Zubaan                                              India\n",
              "Zumbo's Just Desserts                           Australia\n",
              "ZZ TOP: THAT LITTLE OL' BAND FROM TEXAS    United Kingdom\n",
              "ZZ TOP: THAT LITTLE OL' BAND FROM TEXAS            Canada\n",
              "ZZ TOP: THAT LITTLE OL' BAND FROM TEXAS     United States\n",
              "Length: 9063, dtype: object"
            ]
          },
          "metadata": {},
          "execution_count": 20
        }
      ]
    },
    {
      "cell_type": "code",
      "metadata": {
        "colab": {
          "base_uri": "https://localhost:8080/",
          "height": 566
        },
        "id": "wDDPi6lQUbWV",
        "outputId": "8051da62-5e3e-4489-820b-f3caebe52d77"
      },
      "source": [
        "plt.figure(figsize=(7,9))\n",
        "g = sns.countplot(y = netflix_countries, order=netflix_countries.value_counts().index[:10])\n",
        "plt.title('상위 10개국')\n",
        "plt.xlabel('Titles')\n",
        "plt.ylabel('Country')\n",
        "plt.show()"
      ],
      "execution_count": null,
      "outputs": [
        {
          "output_type": "display_data",
          "data": {
            "image/png": "[encoded data removed]",
            "text/plain": [
              "<Figure size 504x648 with 1 Axes>"
            ]
          },
          "metadata": {
            "needs_background": "light"
          }
        }
      ]
    },
    {
      "cell_type": "markdown",
      "metadata": {
        "id": "iZ1YDTFvFAYS"
      },
      "source": [
        "---"
      ]
    },
    {
      "cell_type": "code",
      "metadata": {
        "colab": {
          "base_uri": "https://localhost:8080/"
        },
        "id": "vBzkq4xSFCgv",
        "outputId": "e7bb5b2c-4d02-4086-af91-ecab16aa346d"
      },
      "source": [
        "# 'listed_in' 칼럼을 분석하여 장르 분석 => 장르가 여러가지인 작품이 多  \n",
        "netflix['listed_in'].unique() "
      ],
      "execution_count": null,
      "outputs": [
        {
          "output_type": "execute_result",
          "data": {
            "text/plain": [
              "array(['International TV Shows, TV Dramas, TV Sci-Fi & Fantasy',\n",
              "       'Dramas, International Movies',\n",
              "       'Horror Movies, International Movies',\n",
              "       'Action & Adventure, Independent Movies, Sci-Fi & Fantasy',\n",
              "       'Dramas', 'International TV Shows, TV Dramas, TV Mysteries',\n",
              "       'Horror Movies, International Movies, Thrillers',\n",
              "       'Dramas, Thrillers',\n",
              "       'Crime TV Shows, International TV Shows, TV Dramas',\n",
              "       'Crime TV Shows, Docuseries, International TV Shows',\n",
              "       'Documentaries, International Movies, Sports Movies',\n",
              "       'Independent Movies, Sci-Fi & Fantasy, Thrillers',\n",
              "       'Dramas, International Movies, Thrillers',\n",
              "       'International TV Shows, TV Dramas',\n",
              "       'Comedies, Dramas, Independent Movies', 'Sports Movies',\n",
              "       'Dramas, Independent Movies, International Movies',\n",
              "       'Action & Adventure, Dramas, International Movies',\n",
              "       'Anime Series, International TV Shows', 'Documentaries',\n",
              "       'Reality TV', 'Documentaries, International Movies', 'TV Comedies',\n",
              "       'Dramas, International Movies, Romantic Movies', 'Comedies',\n",
              "       'Comedies, Romantic Movies', 'Documentaries, Sports Movies',\n",
              "       'Comedies, Dramas, International Movies',\n",
              "       'International TV Shows, Romantic TV Shows, TV Comedies',\n",
              "       'Comedies, International Movies',\n",
              "       'Action & Adventure, Sci-Fi & Fantasy', 'Dramas, Romantic Movies',\n",
              "       'Dramas, Romantic Movies, Sports Movies',\n",
              "       'Comedies, International Movies, Romantic Movies',\n",
              "       'Action & Adventure',\n",
              "       'International TV Shows, Romantic TV Shows, TV Dramas',\n",
              "       'Docuseries, Science & Nature TV',\n",
              "       'Dramas, International Movies, Sports Movies', 'Movies',\n",
              "       'British TV Shows, International TV Shows, Reality TV',\n",
              "       'Dramas, Independent Movies, Sports Movies',\n",
              "       'International TV Shows, Korean TV Shows, Romantic TV Shows',\n",
              "       'Horror Movies, Independent Movies, Thrillers',\n",
              "       'Crime TV Shows, TV Dramas, TV Mysteries',\n",
              "       'Crime TV Shows, Docuseries', 'Horror Movies, Thrillers',\n",
              "       'Action & Adventure, International Movies',\n",
              "       'Horror Movies, Independent Movies',\n",
              "       'Documentaries, Music & Musicals',\n",
              "       'International Movies, Music & Musicals', 'Sci-Fi & Fantasy',\n",
              "       'Dramas, Independent Movies', 'British TV Shows, Reality TV',\n",
              "       'Action & Adventure, Comedies, International Movies',\n",
              "       'Comedies, Dramas', 'Dramas, LGBTQ Movies',\n",
              "       'Documentaries, Faith & Spirituality',\n",
              "       'Action & Adventure, Comedies',\n",
              "       \"Kids' TV, TV Action & Adventure, TV Sci-Fi & Fantasy\",\n",
              "       'International Movies, Thrillers', \"Kids' TV\",\n",
              "       'International TV Shows, Romantic TV Shows, Spanish-Language TV Shows',\n",
              "       'Children & Family Movies, Comedies', 'Comedies, LGBTQ Movies',\n",
              "       'Comedies, Dramas, Romantic Movies', 'Action & Adventure, Dramas',\n",
              "       'Dramas, Independent Movies, Romantic Movies',\n",
              "       'Comedies, Independent Movies, Thrillers', 'TV Shows',\n",
              "       'Docuseries', 'Comedies, International Movies, Music & Musicals',\n",
              "       'Docuseries, International TV Shows, Science & Nature TV',\n",
              "       'British TV Shows, Docuseries, Science & Nature TV',\n",
              "       'Children & Family Movies, Dramas, Sports Movies',\n",
              "       'Children & Family Movies', 'Dramas, Sci-Fi & Fantasy',\n",
              "       'International TV Shows, TV Comedies, TV Dramas',\n",
              "       'Action & Adventure, Classic Movies, Dramas',\n",
              "       'Children & Family Movies, Dramas',\n",
              "       'Action & Adventure, International Movies, Romantic Movies',\n",
              "       'Children & Family Movies, Dramas, Romantic Movies',\n",
              "       'Children & Family Movies, Comedies, Music & Musicals',\n",
              "       'Classic Movies, Cult Movies, Dramas',\n",
              "       'Action & Adventure, International Movies, Sci-Fi & Fantasy',\n",
              "       'Comedies, Independent Movies', 'Comedies, Horror Movies',\n",
              "       'Children & Family Movies, Comedies, Romantic Movies',\n",
              "       'International TV Shows, TV Dramas, TV Horror', 'Thrillers',\n",
              "       'Stand-Up Comedy & Talk Shows, TV Comedies',\n",
              "       'International TV Shows, Romantic TV Shows, Teen TV Shows',\n",
              "       'Crime TV Shows, International TV Shows, Korean TV Shows',\n",
              "       'Comedies, International Movies, Sports Movies',\n",
              "       'Dramas, LGBTQ Movies, Romantic Movies', 'Comedies, Cult Movies',\n",
              "       'Dramas, Independent Movies, LGBTQ Movies',\n",
              "       'International TV Shows, Reality TV', 'Stand-Up Comedy',\n",
              "       'Documentaries, LGBTQ Movies',\n",
              "       \"Kids' TV, TV Action & Adventure, TV Comedies\",\n",
              "       'Anime Features, International Movies',\n",
              "       'Music & Musicals, Romantic Movies', 'Comedies, Music & Musicals',\n",
              "       'International TV Shows, TV Comedies',\n",
              "       'International Movies, Romantic Movies',\n",
              "       'Anime Features, Children & Family Movies, International Movies',\n",
              "       'British TV Shows, TV Comedies, TV Dramas', 'TV Dramas',\n",
              "       'Horror Movies',\n",
              "       'Action & Adventure, Children & Family Movies, Independent Movies',\n",
              "       'Dramas, International Movies, Music & Musicals',\n",
              "       'Comedies, International Movies, Sci-Fi & Fantasy',\n",
              "       'International TV Shows, Korean TV Shows, Stand-Up Comedy & Talk Shows',\n",
              "       'Docuseries, Science & Nature TV, TV Comedies',\n",
              "       'Dramas, Sports Movies',\n",
              "       'Dramas, Music & Musicals, Romantic Movies',\n",
              "       'Children & Family Movies, Comedies, International Movies',\n",
              "       'Action & Adventure, Documentaries, International Movies',\n",
              "       'Comedies, International Movies, Thrillers',\n",
              "       'Action & Adventure, Dramas, Romantic Movies',\n",
              "       'Horror Movies, Independent Movies, International Movies',\n",
              "       'Dramas, Independent Movies, Sci-Fi & Fantasy',\n",
              "       'International Movies, Sci-Fi & Fantasy',\n",
              "       'Docuseries, Reality TV, Science & Nature TV',\n",
              "       'British TV Shows, Docuseries, International TV Shows',\n",
              "       'Docuseries, International TV Shows',\n",
              "       'British TV Shows, International TV Shows, TV Comedies',\n",
              "       'Action & Adventure, Horror Movies',\n",
              "       'British TV Shows, Reality TV, Romantic TV Shows',\n",
              "       'Crime TV Shows, International TV Shows, TV Action & Adventure',\n",
              "       'International TV Shows, Reality TV, Romantic TV Shows',\n",
              "       'International Movies, Music & Musicals, Romantic Movies',\n",
              "       'TV Comedies, TV Dramas',\n",
              "       'Anime Series, Crime TV Shows, International TV Shows',\n",
              "       \"Kids' TV, TV Comedies, TV Dramas\",\n",
              "       'Action & Adventure, Comedies, Dramas',\n",
              "       'Documentaries, International Movies, Music & Musicals',\n",
              "       \"Kids' TV, TV Comedies\",\n",
              "       'Classic Movies, Dramas, International Movies',\n",
              "       'Comedies, Independent Movies, International Movies',\n",
              "       'Classic Movies, Comedies, Dramas',\n",
              "       'International TV Shows, TV Action & Adventure, TV Mysteries',\n",
              "       'Comedies, International Movies, LGBTQ Movies',\n",
              "       'Children & Family Movies, Comedies, Sci-Fi & Fantasy',\n",
              "       'TV Dramas, Teen TV Shows',\n",
              "       'Children & Family Movies, Independent Movies',\n",
              "       'International TV Shows, Spanish-Language TV Shows, TV Comedies',\n",
              "       'Crime TV Shows, TV Action & Adventure, TV Dramas',\n",
              "       'Action & Adventure, Anime Features, International Movies',\n",
              "       'Action & Adventure, Classic Movies, Comedies',\n",
              "       'Crime TV Shows, TV Dramas',\n",
              "       'TV Horror, TV Mysteries, TV Thrillers', 'TV Dramas, TV Thrillers',\n",
              "       'Comedies, Cult Movies, Dramas',\n",
              "       'Crime TV Shows, TV Comedies, Teen TV Shows',\n",
              "       'Dramas, Faith & Spirituality', 'Comedies, Dramas, LGBTQ Movies',\n",
              "       'Action & Adventure, Comedies, Cult Movies',\n",
              "       'International TV Shows, TV Action & Adventure, TV Comedies',\n",
              "       'Dramas, Independent Movies, Music & Musicals',\n",
              "       'International TV Shows, TV Horror, TV Thrillers',\n",
              "       'International TV Shows, TV Horror, TV Mysteries',\n",
              "       'International TV Shows, TV Dramas, Teen TV Shows',\n",
              "       'Anime Series, International TV Shows, Teen TV Shows',\n",
              "       'Dramas, Sci-Fi & Fantasy, Thrillers',\n",
              "       'TV Action & Adventure, TV Dramas, TV Mysteries',\n",
              "       'Crime TV Shows, International TV Shows, TV Comedies',\n",
              "       'Action & Adventure, Comedies, Sci-Fi & Fantasy',\n",
              "       \"Anime Series, Kids' TV\",\n",
              "       'Crime TV Shows, International TV Shows, Spanish-Language TV Shows',\n",
              "       'Horror Movies, Sci-Fi & Fantasy, Thrillers',\n",
              "       'International TV Shows, Korean TV Shows, TV Dramas',\n",
              "       'Stand-Up Comedy & Talk Shows',\n",
              "       'International Movies, Sci-Fi & Fantasy, Thrillers',\n",
              "       'Crime TV Shows, TV Action & Adventure',\n",
              "       'International TV Shows, Korean TV Shows, TV Action & Adventure',\n",
              "       'TV Action & Adventure, TV Comedies, TV Horror',\n",
              "       'International TV Shows, Romantic TV Shows',\n",
              "       \"Crime TV Shows, Kids' TV, TV Comedies\",\n",
              "       'TV Comedies, TV Dramas, Teen TV Shows',\n",
              "       'Docuseries, International TV Shows, Reality TV',\n",
              "       \"Classic & Cult TV, Kids' TV, TV Action & Adventure\",\n",
              "       'Horror Movies, Sci-Fi & Fantasy',\n",
              "       'Romantic TV Shows, TV Dramas, TV Sci-Fi & Fantasy',\n",
              "       'Dramas, International Movies, Sci-Fi & Fantasy',\n",
              "       'Children & Family Movies, Sports Movies',\n",
              "       'Dramas, Independent Movies, Thrillers',\n",
              "       'Independent Movies, International Movies, Thrillers',\n",
              "       'British TV Shows, TV Comedies',\n",
              "       'International TV Shows, Spanish-Language TV Shows, TV Dramas',\n",
              "       'Action & Adventure, Comedies, Independent Movies',\n",
              "       'International TV Shows, TV Action & Adventure, TV Dramas',\n",
              "       'Children & Family Movies, Music & Musicals', 'Music & Musicals',\n",
              "       'Action & Adventure, International Movies, Music & Musicals',\n",
              "       'Comedies, Sports Movies', 'Classic Movies, Thrillers',\n",
              "       'Docuseries, Reality TV', 'Crime TV Shows, TV Dramas, TV Horror',\n",
              "       'Crime TV Shows, TV Comedies, TV Dramas',\n",
              "       'British TV Shows, Docuseries, Reality TV',\n",
              "       'Reality TV, Science & Nature TV, TV Action & Adventure',\n",
              "       'Children & Family Movies, Documentaries, International Movies',\n",
              "       'Crime TV Shows, Romantic TV Shows, TV Dramas',\n",
              "       'British TV Shows, Docuseries',\n",
              "       'Documentaries, LGBTQ Movies, Music & Musicals',\n",
              "       'Romantic TV Shows, TV Dramas', 'Independent Movies, Thrillers',\n",
              "       'International TV Shows, TV Action & Adventure, TV Horror',\n",
              "       'Children & Family Movies, Documentaries, Sports Movies',\n",
              "       'Stand-Up Comedy & Talk Shows, TV Mysteries, TV Sci-Fi & Fantasy',\n",
              "       'International TV Shows, Reality TV, TV Comedies',\n",
              "       'Dramas, International Movies, LGBTQ Movies',\n",
              "       'Action & Adventure, Dramas, Independent Movies',\n",
              "       'British TV Shows, International TV Shows, TV Dramas',\n",
              "       'TV Action & Adventure, TV Dramas, TV Sci-Fi & Fantasy',\n",
              "       'TV Action & Adventure, TV Dramas, TV Horror',\n",
              "       'Action & Adventure, Anime Features, Sci-Fi & Fantasy',\n",
              "       'Anime Series', 'TV Dramas, TV Mysteries, TV Thrillers',\n",
              "       'Music & Musicals, Stand-Up Comedy',\n",
              "       'Docuseries, International TV Shows, Spanish-Language TV Shows',\n",
              "       'Crime TV Shows, International TV Shows, Reality TV',\n",
              "       \"British TV Shows, Kids' TV\",\n",
              "       'Docuseries, Spanish-Language TV Shows',\n",
              "       'Crime TV Shows, TV Dramas, TV Thrillers',\n",
              "       'Documentaries, International Movies, LGBTQ Movies',\n",
              "       'British TV Shows, Crime TV Shows, International TV Shows',\n",
              "       'Action & Adventure, Independent Movies',\n",
              "       'Classic Movies, Dramas, Romantic Movies',\n",
              "       'Crime TV Shows, Romantic TV Shows, Spanish-Language TV Shows',\n",
              "       'Children & Family Movies, Comedies, Dramas',\n",
              "       'Cult Movies, Horror Movies', \"Kids' TV, TV Thrillers\",\n",
              "       'Classic Movies, Cult Movies, Horror Movies',\n",
              "       'Anime Series, Crime TV Shows, TV Thrillers',\n",
              "       'Anime Series, TV Horror, TV Thrillers', 'Classic Movies, Dramas',\n",
              "       'British TV Shows, Crime TV Shows, Docuseries',\n",
              "       'Action & Adventure, International Movies, Thrillers',\n",
              "       'Anime Series, Teen TV Shows',\n",
              "       'Children & Family Movies, Dramas, International Movies',\n",
              "       'Dramas, Faith & Spirituality, International Movies',\n",
              "       'TV Horror, TV Mysteries, Teen TV Shows',\n",
              "       'Children & Family Movies, Classic Movies',\n",
              "       'TV Dramas, TV Sci-Fi & Fantasy', 'Reality TV, Teen TV Shows',\n",
              "       'Docuseries, Reality TV, Teen TV Shows',\n",
              "       'Classic & Cult TV, TV Comedies',\n",
              "       'International TV Shows, Korean TV Shows, Reality TV',\n",
              "       'International TV Shows, Stand-Up Comedy & Talk Shows, TV Comedies',\n",
              "       'British TV Shows, International TV Shows, Romantic TV Shows',\n",
              "       'International TV Shows, TV Dramas, TV Thrillers',\n",
              "       'Anime Features', 'TV Horror, TV Mysteries, TV Sci-Fi & Fantasy',\n",
              "       'Children & Family Movies, Classic Movies, Comedies',\n",
              "       'Comedies, Faith & Spirituality, Romantic Movies',\n",
              "       'Classic Movies, Comedies, International Movies',\n",
              "       'Action & Adventure, Horror Movies, Sci-Fi & Fantasy',\n",
              "       'Action & Adventure, Classic Movies',\n",
              "       'TV Dramas, TV Sci-Fi & Fantasy, TV Thrillers',\n",
              "       'Comedies, Sci-Fi & Fantasy',\n",
              "       'Action & Adventure, Cult Movies, Dramas',\n",
              "       'TV Action & Adventure, TV Dramas', \"Kids' TV, Korean TV Shows\",\n",
              "       'Action & Adventure, Independent Movies, International Movies',\n",
              "       'Dramas, Faith & Spirituality, Independent Movies',\n",
              "       'Docuseries, TV Comedies',\n",
              "       'Documentaries, Faith & Spirituality, Music & Musicals',\n",
              "       'Romantic TV Shows, TV Comedies',\n",
              "       \"Kids' TV, Spanish-Language TV Shows\",\n",
              "       \"British TV Shows, Kids' TV, TV Thrillers\",\n",
              "       'Action & Adventure, Romantic Movies',\n",
              "       'British TV Shows, Classic & Cult TV, TV Comedies',\n",
              "       'Action & Adventure, Horror Movies, International Movies',\n",
              "       'Children & Family Movies, Documentaries',\n",
              "       \"British TV Shows, Kids' TV, TV Comedies\",\n",
              "       'Horror Movies, Independent Movies, Sci-Fi & Fantasy',\n",
              "       'TV Sci-Fi & Fantasy, TV Thrillers',\n",
              "       'Romantic TV Shows, TV Comedies, TV Dramas',\n",
              "       'Reality TV, Romantic TV Shows',\n",
              "       'Classic Movies, Dramas, Independent Movies',\n",
              "       'Romantic TV Shows, TV Dramas, Teen TV Shows',\n",
              "       'TV Action & Adventure, TV Sci-Fi & Fantasy',\n",
              "       'British TV Shows, TV Horror, TV Thrillers',\n",
              "       'International Movies, Sports Movies', 'International Movies',\n",
              "       'Anime Series, International TV Shows, TV Horror',\n",
              "       'International TV Shows',\n",
              "       'Dramas, Music & Musicals, Sports Movies',\n",
              "       'International TV Shows, Spanish-Language TV Shows, TV Action & Adventure',\n",
              "       'Cult Movies, Dramas, International Movies',\n",
              "       'TV Action & Adventure, TV Comedies, TV Sci-Fi & Fantasy',\n",
              "       'Reality TV, Science & Nature TV',\n",
              "       'Action & Adventure, Anime Features, Children & Family Movies',\n",
              "       \"Kids' TV, TV Action & Adventure\",\n",
              "       'Children & Family Movies, Sci-Fi & Fantasy',\n",
              "       \"Crime TV Shows, Kids' TV\",\n",
              "       'International Movies, Music & Musicals, Thrillers',\n",
              "       'Crime TV Shows, Spanish-Language TV Shows, TV Action & Adventure',\n",
              "       \"Classic & Cult TV, Kids' TV, Spanish-Language TV Shows\",\n",
              "       'Romantic TV Shows, Spanish-Language TV Shows, TV Dramas',\n",
              "       'Action & Adventure, Cult Movies, International Movies',\n",
              "       'Crime TV Shows, Spanish-Language TV Shows, TV Dramas',\n",
              "       'Action & Adventure, Children & Family Movies, Dramas',\n",
              "       'Dramas, Romantic Movies, Sci-Fi & Fantasy',\n",
              "       'Action & Adventure, Dramas, Sci-Fi & Fantasy',\n",
              "       'International TV Shows, TV Mysteries, TV Thrillers',\n",
              "       'Anime Series, International TV Shows, TV Thrillers',\n",
              "       'Horror Movies, International Movies, Sci-Fi & Fantasy',\n",
              "       'Comedies, Cult Movies, International Movies',\n",
              "       'Comedies, Music & Musicals, Romantic Movies',\n",
              "       'Children & Family Movies, Comedies, Faith & Spirituality',\n",
              "       'Crime TV Shows, Docuseries, TV Mysteries',\n",
              "       'Crime TV Shows, Docuseries, Science & Nature TV',\n",
              "       'British TV Shows, Crime TV Shows, TV Dramas',\n",
              "       'Classic Movies, Comedies, Cult Movies',\n",
              "       'International Movies, Romantic Movies, Thrillers',\n",
              "       'Classic Movies, Dramas, Music & Musicals',\n",
              "       'Cult Movies, Horror Movies, Thrillers',\n",
              "       'Anime Features, Romantic Movies',\n",
              "       'Comedies, Dramas, Music & Musicals',\n",
              "       'Anime Features, International Movies, Romantic Movies',\n",
              "       'Documentaries, Faith & Spirituality, International Movies',\n",
              "       'Action & Adventure, Classic Movies, Sci-Fi & Fantasy',\n",
              "       'International TV Shows, Stand-Up Comedy & Talk Shows',\n",
              "       \"British TV Shows, Kids' TV, TV Dramas\",\n",
              "       'Classic & Cult TV, TV Action & Adventure, TV Horror',\n",
              "       'Children & Family Movies, Dramas, Faith & Spirituality',\n",
              "       'TV Action & Adventure, TV Comedies',\n",
              "       'Action & Adventure, Anime Features, Horror Movies',\n",
              "       'Crime TV Shows, International TV Shows, Romantic TV Shows',\n",
              "       'Classic Movies, Comedies, Music & Musicals',\n",
              "       'Comedies, Horror Movies, International Movies',\n",
              "       \"Kids' TV, Spanish-Language TV Shows, Teen TV Shows\",\n",
              "       'Independent Movies',\n",
              "       'Crime TV Shows, International TV Shows, TV Mysteries',\n",
              "       'Action & Adventure, Thrillers',\n",
              "       \"Kids' TV, TV Dramas, Teen TV Shows\",\n",
              "       'Anime Series, Crime TV Shows', \"Kids' TV, TV Dramas\",\n",
              "       'Crime TV Shows, TV Action & Adventure, TV Comedies',\n",
              "       'TV Comedies, Teen TV Shows',\n",
              "       'Reality TV, TV Horror, TV Thrillers',\n",
              "       'Documentaries, Horror Movies',\n",
              "       'Classic & Cult TV, TV Horror, TV Mysteries',\n",
              "       'Action & Adventure, Cult Movies, Sci-Fi & Fantasy',\n",
              "       'Anime Series, International TV Shows, Romantic TV Shows',\n",
              "       'Action & Adventure, Comedies, Romantic Movies',\n",
              "       'Comedies, Dramas, Faith & Spirituality',\n",
              "       'Comedies, Faith & Spirituality, International Movies',\n",
              "       'Romantic Movies', 'Dramas, Horror Movies, Sci-Fi & Fantasy',\n",
              "       'International TV Shows, Korean TV Shows, TV Comedies',\n",
              "       'Comedies, Independent Movies, LGBTQ Movies',\n",
              "       'TV Comedies, TV Dramas, TV Sci-Fi & Fantasy',\n",
              "       'Dramas, Music & Musicals',\n",
              "       'Dramas, Faith & Spirituality, Romantic Movies',\n",
              "       'International TV Shows, TV Action & Adventure, TV Sci-Fi & Fantasy',\n",
              "       'Reality TV, TV Comedies',\n",
              "       \"Docuseries, Kids' TV, Science & Nature TV\",\n",
              "       'Action & Adventure, Sci-Fi & Fantasy, Thrillers',\n",
              "       'Action & Adventure, Children & Family Movies, Sci-Fi & Fantasy',\n",
              "       'Action & Adventure, Children & Family Movies, Classic Movies',\n",
              "       'Horror Movies, International Movies, Romantic Movies',\n",
              "       'TV Action & Adventure', 'TV Comedies, TV Dramas, TV Horror',\n",
              "       'British TV Shows, International TV Shows, Stand-Up Comedy & Talk Shows',\n",
              "       'Dramas, Music & Musicals, Sci-Fi & Fantasy',\n",
              "       'Spanish-Language TV Shows, TV Dramas',\n",
              "       'Documentaries, Stand-Up Comedy',\n",
              "       'Classic & Cult TV, TV Action & Adventure, TV Dramas',\n",
              "       'British TV Shows, TV Dramas, TV Sci-Fi & Fantasy',\n",
              "       'Anime Features, Music & Musicals',\n",
              "       'International TV Shows, TV Comedies, TV Sci-Fi & Fantasy',\n",
              "       'Comedies, Independent Movies, Romantic Movies',\n",
              "       'Comedies, Cult Movies, Horror Movies',\n",
              "       'Comedies, Cult Movies, Sports Movies',\n",
              "       'Classic Movies, Documentaries', 'Sci-Fi & Fantasy, Thrillers',\n",
              "       'Classic & Cult TV, Crime TV Shows, International TV Shows',\n",
              "       \"Kids' TV, Korean TV Shows, TV Comedies\",\n",
              "       'British TV Shows, Romantic TV Shows, TV Dramas',\n",
              "       'Action & Adventure, Faith & Spirituality, Sci-Fi & Fantasy',\n",
              "       'TV Dramas, TV Sci-Fi & Fantasy, Teen TV Shows',\n",
              "       'Action & Adventure, Children & Family Movies',\n",
              "       'Comedies, Horror Movies, Independent Movies',\n",
              "       'Action & Adventure, Classic Movies, Cult Movies',\n",
              "       'TV Dramas, TV Horror, TV Mysteries',\n",
              "       'International Movies, Romantic Movies, Sci-Fi & Fantasy',\n",
              "       'Anime Series, Romantic TV Shows, Teen TV Shows',\n",
              "       'TV Action & Adventure, TV Horror, TV Sci-Fi & Fantasy',\n",
              "       'Anime Features, Music & Musicals, Sci-Fi & Fantasy',\n",
              "       'Action & Adventure, Anime Features, Classic Movies',\n",
              "       'International TV Shows, Reality TV, Spanish-Language TV Shows',\n",
              "       'Anime Series, Romantic TV Shows',\n",
              "       'International TV Shows, Reality TV, TV Action & Adventure',\n",
              "       'TV Comedies, TV Dramas, TV Mysteries',\n",
              "       'Docuseries, Science & Nature TV, TV Dramas',\n",
              "       'Crime TV Shows, TV Action & Adventure, TV Thrillers',\n",
              "       'Anime Features, Children & Family Movies',\n",
              "       'Docuseries, TV Dramas',\n",
              "       'British TV Shows, International TV Shows, TV Action & Adventure',\n",
              "       'Comedies, Cult Movies, Independent Movies',\n",
              "       'Action & Adventure, Horror Movies, Independent Movies',\n",
              "       'British TV Shows, Docuseries, TV Comedies',\n",
              "       'Comedies, Documentaries',\n",
              "       'British TV Shows, Classic & Cult TV, International TV Shows',\n",
              "       'TV Comedies, TV Sci-Fi & Fantasy',\n",
              "       'TV Comedies, TV Sci-Fi & Fantasy, Teen TV Shows',\n",
              "       'Documentaries, Dramas, International Movies',\n",
              "       'Action & Adventure, Classic Movies, International Movies',\n",
              "       'Cult Movies, Independent Movies, Thrillers',\n",
              "       'Comedies, Independent Movies, Music & Musicals',\n",
              "       'TV Action & Adventure, TV Dramas, Teen TV Shows',\n",
              "       'Romantic TV Shows, TV Action & Adventure, TV Dramas',\n",
              "       'Crime TV Shows, TV Comedies',\n",
              "       'Classic Movies, Cult Movies, Documentaries',\n",
              "       'Children & Family Movies, Comedies, Cult Movies',\n",
              "       \"Classic & Cult TV, Kids' TV, TV Comedies\",\n",
              "       'Classic Movies, Dramas, LGBTQ Movies',\n",
              "       'Comedies, Romantic Movies, Sports Movies',\n",
              "       \"Anime Series, Kids' TV, TV Action & Adventure\",\n",
              "       'Action & Adventure, Children & Family Movies, Comedies',\n",
              "       'Reality TV, TV Comedies, TV Horror',\n",
              "       'Classic Movies, Dramas, Sports Movies',\n",
              "       \"Kids' TV, TV Action & Adventure, TV Dramas\",\n",
              "       'Action & Adventure, Sci-Fi & Fantasy, Sports Movies',\n",
              "       'Dramas, Romantic Movies, Thrillers',\n",
              "       'Action & Adventure, Cult Movies',\n",
              "       'Children & Family Movies, Dramas, Independent Movies',\n",
              "       'Children & Family Movies, Comedies, LGBTQ Movies',\n",
              "       'Action & Adventure, Comedies, Music & Musicals',\n",
              "       'Classic Movies, Horror Movies, Thrillers',\n",
              "       'Classic & Cult TV, TV Dramas, TV Sci-Fi & Fantasy',\n",
              "       'Children & Family Movies, Comedies, Sports Movies',\n",
              "       'Docuseries, Stand-Up Comedy & Talk Shows',\n",
              "       'Action & Adventure, Dramas, Faith & Spirituality',\n",
              "       'TV Comedies, TV Horror, TV Thrillers',\n",
              "       'Classic Movies, Comedies, Independent Movies',\n",
              "       'Crime TV Shows, TV Horror, TV Mysteries',\n",
              "       'Children & Family Movies, Classic Movies, Dramas',\n",
              "       'Romantic TV Shows, Spanish-Language TV Shows, TV Comedies',\n",
              "       'Dramas, Faith & Spirituality, Sports Movies',\n",
              "       'Classic & Cult TV, TV Action & Adventure, TV Sci-Fi & Fantasy',\n",
              "       'International TV Shows, Korean TV Shows, TV Horror',\n",
              "       'Classic Movies, Comedies, Romantic Movies',\n",
              "       'Dramas, Horror Movies, Music & Musicals',\n",
              "       'Cult Movies, Horror Movies, Independent Movies',\n",
              "       'Classic Movies, Dramas, Thrillers',\n",
              "       'TV Dramas, TV Mysteries, TV Sci-Fi & Fantasy',\n",
              "       'Classic Movies, Independent Movies, Thrillers',\n",
              "       'TV Comedies, TV Mysteries',\n",
              "       'International TV Shows, Romantic TV Shows, TV Mysteries',\n",
              "       \"Kids' TV, TV Comedies, Teen TV Shows\",\n",
              "       'Crime TV Shows, TV Action & Adventure, TV Sci-Fi & Fantasy',\n",
              "       \"Kids' TV, TV Comedies, TV Sci-Fi & Fantasy\",\n",
              "       'Anime Series, International TV Shows, Spanish-Language TV Shows',\n",
              "       'Cult Movies, Dramas, Thrillers',\n",
              "       'International TV Shows, Spanish-Language TV Shows, TV Horror',\n",
              "       'Children & Family Movies, Faith & Spirituality',\n",
              "       'Comedies, Music & Musicals, Sports Movies',\n",
              "       'Classic Movies, Comedies, Sports Movies',\n",
              "       'Comedies, Dramas, Sports Movies',\n",
              "       'Action & Adventure, Dramas, Sports Movies',\n",
              "       \"Kids' TV, Reality TV, TV Dramas\",\n",
              "       'Horror Movies, LGBTQ Movies, Music & Musicals',\n",
              "       'Comedies, LGBTQ Movies, Music & Musicals',\n",
              "       'International TV Shows, Romantic TV Shows, TV Action & Adventure',\n",
              "       'Cult Movies, Documentaries, LGBTQ Movies',\n",
              "       'Action & Adventure, Romantic Movies, Sci-Fi & Fantasy',\n",
              "       'Classic & Cult TV, TV Sci-Fi & Fantasy',\n",
              "       'TV Action & Adventure, TV Mysteries, TV Sci-Fi & Fantasy',\n",
              "       'Children & Family Movies, Dramas, Music & Musicals',\n",
              "       'Docuseries, TV Sci-Fi & Fantasy',\n",
              "       \"British TV Shows, Classic & Cult TV, Kids' TV\",\n",
              "       'Action & Adventure, International Movies, Sports Movies',\n",
              "       'Docuseries, Science & Nature TV, TV Action & Adventure',\n",
              "       'Comedies, Cult Movies, LGBTQ Movies',\n",
              "       'Crime TV Shows, International TV Shows, TV Sci-Fi & Fantasy',\n",
              "       'Comedies, Horror Movies, Sci-Fi & Fantasy',\n",
              "       'Action & Adventure, Comedies, Horror Movies',\n",
              "       'Classic & Cult TV, Crime TV Shows, TV Dramas',\n",
              "       'TV Horror, Teen TV Shows',\n",
              "       'Reality TV, Spanish-Language TV Shows',\n",
              "       'Action & Adventure, Documentaries, Sports Movies',\n",
              "       'Anime Features, International Movies, Sci-Fi & Fantasy',\n",
              "       'LGBTQ Movies, Thrillers', 'Action & Adventure, Sports Movies',\n",
              "       'International Movies, LGBTQ Movies, Romantic Movies',\n",
              "       \"Kids' TV, Reality TV, Science & Nature TV\",\n",
              "       'International TV Shows, Spanish-Language TV Shows, Stand-Up Comedy & Talk Shows'],\n",
              "      dtype=object)"
            ]
          },
          "metadata": {},
          "execution_count": 49
        }
      ]
    },
    {
      "cell_type": "code",
      "metadata": {
        "colab": {
          "base_uri": "https://localhost:8080/"
        },
        "id": "d5iEAH-QFp7H",
        "outputId": "e305cbd7-62d0-433a-98b6-64a3a197beb0"
      },
      "source": [
        "# 장르 분류하기\n",
        "netflix_genres = netflix.set_index('title').listed_in.str.split(', ', expand=True).stack().reset_index(level=1, drop=True);\n",
        "netflix_genres"
      ],
      "execution_count": null,
      "outputs": [
        {
          "output_type": "execute_result",
          "data": {
            "text/plain": [
              "title\n",
              "3%                                         International TV Shows\n",
              "3%                                                      TV Dramas\n",
              "3%                                            TV Sci-Fi & Fantasy\n",
              "7:19                                                       Dramas\n",
              "7:19                                         International Movies\n",
              "                                                    ...          \n",
              "Zulu Man in Japan                                Music & Musicals\n",
              "Zumbo's Just Desserts                      International TV Shows\n",
              "Zumbo's Just Desserts                                  Reality TV\n",
              "ZZ TOP: THAT LITTLE OL' BAND FROM TEXAS             Documentaries\n",
              "ZZ TOP: THAT LITTLE OL' BAND FROM TEXAS          Music & Musicals\n",
              "Length: 17071, dtype: object"
            ]
          },
          "metadata": {},
          "execution_count": 51
        }
      ]
    },
    {
      "cell_type": "code",
      "metadata": {
        "colab": {
          "base_uri": "https://localhost:8080/",
          "height": 566
        },
        "id": "W6fu6oDnFDAV",
        "outputId": "2ba1a133-d685-4b30-c798-83bf8f25b71a"
      },
      "source": [
        "plt.figure(figsize=(7,9))\n",
        "g = sns.countplot(y = netflix_genres, order=netflix_genres.value_counts().index[:15])\n",
        "plt.title('상위 15개 장르')\n",
        "plt.xlabel('Titles')\n",
        "plt.ylabel('Genres')\n",
        "plt.show()"
      ],
      "execution_count": null,
      "outputs": [
        {
          "output_type": "display_data",
          "data": {
            "image/png": "[encoded data removed]",
            "text/plain": [
              "<Figure size 504x648 with 1 Axes>"
            ]
          },
          "metadata": {
            "needs_background": "light"
          }
        }
      ]
    },
    {
      "cell_type": "markdown",
      "metadata": {
        "id": "goC-KDPcH3Ny"
      },
      "source": [
        "---"
      ]
    },
    {
      "cell_type": "code",
      "metadata": {
        "colab": {
          "base_uri": "https://localhost:8080/",
          "height": 669
        },
        "id": "vj3_pUAoNsQa",
        "outputId": "7d2880ed-4701-476b-e372-c9e4a7cc65fa"
      },
      "source": [
        "# 영화 러닝타임 분석 \n",
        "netflix_Movie = netflix[netflix[\"type\"]==\"Movie\"][\"duration\"].value_counts().head(20)\n",
        "netflix_Movie.sort_index\n",
        "netflix_Movie = pd.DataFrame(netflix_Movie)\n",
        "netflix_Movie"
      ],
      "execution_count": null,
      "outputs": [
        {
          "output_type": "execute_result",
          "data": {
            "text/html": [
              "<div>\n",
              "<style scoped>\n",
              "    .dataframe tbody tr th:only-of-type {\n",
              "        vertical-align: middle;\n",
              "    }\n",
              "\n",
              "    .dataframe tbody tr th {\n",
              "        vertical-align: top;\n",
              "    }\n",
              "\n",
              "    .dataframe thead th {\n",
              "        text-align: right;\n",
              "    }\n",
              "</style>\n",
              "<table border=\"1\" class=\"dataframe\">\n",
              "  <thead>\n",
              "    <tr style=\"text-align: right;\">\n",
              "      <th></th>\n",
              "      <th>duration</th>\n",
              "    </tr>\n",
              "  </thead>\n",
              "  <tbody>\n",
              "    <tr>\n",
              "      <th>90 min</th>\n",
              "      <td>136</td>\n",
              "    </tr>\n",
              "    <tr>\n",
              "      <th>93 min</th>\n",
              "      <td>131</td>\n",
              "    </tr>\n",
              "    <tr>\n",
              "      <th>94 min</th>\n",
              "      <td>125</td>\n",
              "    </tr>\n",
              "    <tr>\n",
              "      <th>91 min</th>\n",
              "      <td>125</td>\n",
              "    </tr>\n",
              "    <tr>\n",
              "      <th>95 min</th>\n",
              "      <td>119</td>\n",
              "    </tr>\n",
              "    <tr>\n",
              "      <th>92 min</th>\n",
              "      <td>118</td>\n",
              "    </tr>\n",
              "    <tr>\n",
              "      <th>97 min</th>\n",
              "      <td>117</td>\n",
              "    </tr>\n",
              "    <tr>\n",
              "      <th>96 min</th>\n",
              "      <td>115</td>\n",
              "    </tr>\n",
              "    <tr>\n",
              "      <th>98 min</th>\n",
              "      <td>106</td>\n",
              "    </tr>\n",
              "    <tr>\n",
              "      <th>99 min</th>\n",
              "      <td>101</td>\n",
              "    </tr>\n",
              "    <tr>\n",
              "      <th>103 min</th>\n",
              "      <td>101</td>\n",
              "    </tr>\n",
              "    <tr>\n",
              "      <th>88 min</th>\n",
              "      <td>101</td>\n",
              "    </tr>\n",
              "    <tr>\n",
              "      <th>102 min</th>\n",
              "      <td>98</td>\n",
              "    </tr>\n",
              "    <tr>\n",
              "      <th>106 min</th>\n",
              "      <td>97</td>\n",
              "    </tr>\n",
              "    <tr>\n",
              "      <th>100 min</th>\n",
              "      <td>97</td>\n",
              "    </tr>\n",
              "    <tr>\n",
              "      <th>101 min</th>\n",
              "      <td>96</td>\n",
              "    </tr>\n",
              "    <tr>\n",
              "      <th>86 min</th>\n",
              "      <td>93</td>\n",
              "    </tr>\n",
              "    <tr>\n",
              "      <th>105 min</th>\n",
              "      <td>91</td>\n",
              "    </tr>\n",
              "    <tr>\n",
              "      <th>104 min</th>\n",
              "      <td>89</td>\n",
              "    </tr>\n",
              "    <tr>\n",
              "      <th>89 min</th>\n",
              "      <td>88</td>\n",
              "    </tr>\n",
              "  </tbody>\n",
              "</table>\n",
              "</div>"
            ],
            "text/plain": [
              "         duration\n",
              "90 min        136\n",
              "93 min        131\n",
              "94 min        125\n",
              "91 min        125\n",
              "95 min        119\n",
              "92 min        118\n",
              "97 min        117\n",
              "96 min        115\n",
              "98 min        106\n",
              "99 min        101\n",
              "103 min       101\n",
              "88 min        101\n",
              "102 min        98\n",
              "106 min        97\n",
              "100 min        97\n",
              "101 min        96\n",
              "86 min         93\n",
              "105 min        91\n",
              "104 min        89\n",
              "89 min         88"
            ]
          },
          "metadata": {},
          "execution_count": 73
        }
      ]
    },
    {
      "cell_type": "code",
      "metadata": {
        "colab": {
          "base_uri": "https://localhost:8080/",
          "height": 634
        },
        "id": "S9G1fo6dNsG0",
        "outputId": "0d8c44b2-639d-47c6-8395-e4ed93d29c61"
      },
      "source": [
        "# netflix 영화 데이터의 duration을 그래프로 출력하기 => seaborn을 이용\n",
        "plt.figure(figsize=(15,10))\n",
        "ax = sns.pointplot(x = netflix_Movie.index, y=netflix_Movie['duration'], data=netflix_Movie)\n",
        "plt.title('영화 러닝타임')\n",
        "plt.xticks(rotation=270)\n",
        "plt.show()"
      ],
      "execution_count": null,
      "outputs": [
        {
          "output_type": "display_data",
          "data": {
            "image/png": "[encoded data removed]",
            "text/plain": [
              "<Figure size 1080x720 with 1 Axes>"
            ]
          },
          "metadata": {
            "needs_background": "light"
          }
        }
      ]
    },
    {
      "cell_type": "code",
      "metadata": {
        "colab": {
          "base_uri": "https://localhost:8080/",
          "height": 514
        },
        "id": "qr7Ww78YFCzh",
        "outputId": "ccecd820-369f-4609-ac75-132e644d57dc"
      },
      "source": [
        "# TV Show 시즌 분석 \n",
        "netflix_TVShow = netflix[netflix[\"type\"]==\"TV Show\"][\"duration\"].value_counts().head(20)\n",
        "netflix_TVShow.sort_index\n",
        "netflix_TVShow = pd.DataFrame(netflix_TVShow)\n",
        "netflix_TVShow"
      ],
      "execution_count": null,
      "outputs": [
        {
          "output_type": "execute_result",
          "data": {
            "text/html": [
              "<div>\n",
              "<style scoped>\n",
              "    .dataframe tbody tr th:only-of-type {\n",
              "        vertical-align: middle;\n",
              "    }\n",
              "\n",
              "    .dataframe tbody tr th {\n",
              "        vertical-align: top;\n",
              "    }\n",
              "\n",
              "    .dataframe thead th {\n",
              "        text-align: right;\n",
              "    }\n",
              "</style>\n",
              "<table border=\"1\" class=\"dataframe\">\n",
              "  <thead>\n",
              "    <tr style=\"text-align: right;\">\n",
              "      <th></th>\n",
              "      <th>duration</th>\n",
              "    </tr>\n",
              "  </thead>\n",
              "  <tbody>\n",
              "    <tr>\n",
              "      <th>1 Season</th>\n",
              "      <td>1608</td>\n",
              "    </tr>\n",
              "    <tr>\n",
              "      <th>2 Seasons</th>\n",
              "      <td>382</td>\n",
              "    </tr>\n",
              "    <tr>\n",
              "      <th>3 Seasons</th>\n",
              "      <td>184</td>\n",
              "    </tr>\n",
              "    <tr>\n",
              "      <th>4 Seasons</th>\n",
              "      <td>87</td>\n",
              "    </tr>\n",
              "    <tr>\n",
              "      <th>5 Seasons</th>\n",
              "      <td>58</td>\n",
              "    </tr>\n",
              "    <tr>\n",
              "      <th>6 Seasons</th>\n",
              "      <td>30</td>\n",
              "    </tr>\n",
              "    <tr>\n",
              "      <th>7 Seasons</th>\n",
              "      <td>19</td>\n",
              "    </tr>\n",
              "    <tr>\n",
              "      <th>8 Seasons</th>\n",
              "      <td>18</td>\n",
              "    </tr>\n",
              "    <tr>\n",
              "      <th>9 Seasons</th>\n",
              "      <td>8</td>\n",
              "    </tr>\n",
              "    <tr>\n",
              "      <th>10 Seasons</th>\n",
              "      <td>6</td>\n",
              "    </tr>\n",
              "    <tr>\n",
              "      <th>11 Seasons</th>\n",
              "      <td>3</td>\n",
              "    </tr>\n",
              "    <tr>\n",
              "      <th>12 Seasons</th>\n",
              "      <td>2</td>\n",
              "    </tr>\n",
              "    <tr>\n",
              "      <th>15 Seasons</th>\n",
              "      <td>2</td>\n",
              "    </tr>\n",
              "    <tr>\n",
              "      <th>13 Seasons</th>\n",
              "      <td>2</td>\n",
              "    </tr>\n",
              "    <tr>\n",
              "      <th>16 Seasons</th>\n",
              "      <td>1</td>\n",
              "    </tr>\n",
              "  </tbody>\n",
              "</table>\n",
              "</div>"
            ],
            "text/plain": [
              "            duration\n",
              "1 Season        1608\n",
              "2 Seasons        382\n",
              "3 Seasons        184\n",
              "4 Seasons         87\n",
              "5 Seasons         58\n",
              "6 Seasons         30\n",
              "7 Seasons         19\n",
              "8 Seasons         18\n",
              "9 Seasons          8\n",
              "10 Seasons         6\n",
              "11 Seasons         3\n",
              "12 Seasons         2\n",
              "15 Seasons         2\n",
              "13 Seasons         2\n",
              "16 Seasons         1"
            ]
          },
          "metadata": {},
          "execution_count": 71
        }
      ]
    },
    {
      "cell_type": "code",
      "metadata": {
        "colab": {
          "base_uri": "https://localhost:8080/",
          "height": 649
        },
        "id": "GFCXBez6Klu8",
        "outputId": "657ce2ef-8baa-43a2-ac3b-b220c171bbe9"
      },
      "source": [
        "# netflix 데이터의 duration을 그래프로 출력하기 => seaborn을 이용\n",
        "plt.figure(figsize=(15,10))\n",
        "ax = sns.pointplot(x = netflix_TVShow.index, y=netflix_TVShow['duration'], data=netflix_TVShow, color='#FC7F77')\n",
        "plt.title('TV show 시즌')\n",
        "plt.xticks(rotation=270)\n",
        "plt.show()"
      ],
      "execution_count": null,
      "outputs": [
        {
          "output_type": "display_data",
          "data": {
            "image/png": "[encoded data removed]",
            "text/plain": [
              "<Figure size 1080x720 with 1 Axes>"
            ]
          },
          "metadata": {
            "needs_background": "light"
          }
        }
      ]
    }
  ]
}